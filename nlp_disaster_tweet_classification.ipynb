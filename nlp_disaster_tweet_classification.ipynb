{
 "cells": [
  {
   "cell_type": "markdown",
   "metadata": {
    "id": "WRkSoJ3hYkn7"
   },
   "source": [
    "# Real or Not? NLP with Disaster Tweets"
   ]
  },
  {
   "cell_type": "markdown",
   "metadata": {
    "id": "7adGpkqkYkn7"
   },
   "source": [
    "#### COMP 562 Final Project\n",
    "##### November 21, 2020\n",
    "Isabella Ford, Elizabeth Hensley, Margaret Lake, Kate Richardson"
   ]
  },
  {
   "cell_type": "markdown",
   "metadata": {
    "id": "wBEwyX4WYkn7"
   },
   "source": [
    "## Imports"
   ]
  },
  {
   "cell_type": "code",
   "execution_count": 50,
   "metadata": {
    "_cell_guid": "b1076dfc-b9ad-4769-8c92-a6c4dae69d19",
    "_uuid": "8f2839f25d086af736a60e9eeb907d3b93b6e0e5",
    "id": "mMM-VO5LYkn8",
    "scrolled": true
   },
   "outputs": [],
   "source": [
    "import numpy as np\n",
    "import pandas as pd\n",
    "import matplotlib.pyplot as plt\n",
    "import re\n",
    "import string\n",
    "from sklearn.feature_extraction.text import CountVectorizer\n",
    "from sklearn import feature_extraction, linear_model, model_selection, preprocessing\n",
    "from sklearn.metrics import confusion_matrix\n",
    "from sklearn.pipeline import Pipeline\n",
    "from sklearn.naive_bayes import MultinomialNB"
   ]
  },
  {
   "cell_type": "markdown",
   "metadata": {
    "id": "2LY79oCLYkn8"
   },
   "source": [
    "## Load data in pandas dataframe"
   ]
  },
  {
   "cell_type": "code",
   "execution_count": 51,
   "metadata": {
    "id": "IAF41zpWYkn8",
    "scrolled": true
   },
   "outputs": [],
   "source": [
    "# Get the data, store as pandas dataframe\n",
    "train_df_full = pd.read_csv(\"train.csv\")\n",
    "test_df_full = pd.read_csv(\"test.csv\")\n",
    "\n",
    "# Drop unused columns\n",
    "train_df = train_df_full.drop(['keyword','location'],axis=1);\n",
    "test_df = test_df_full.drop(['keyword','location'],axis=1);"
   ]
  },
  {
   "cell_type": "code",
   "execution_count": 52,
   "metadata": {
    "colab": {
     "base_uri": "https://localhost:8080/",
     "height": 204
    },
    "id": "aUKmEOUJYkn8",
    "outputId": "df0abc73-f61b-432d-adb2-6e463b7857b3",
    "scrolled": true
   },
   "outputs": [
    {
     "data": {
      "text/html": [
       "<div>\n",
       "<style scoped>\n",
       "    .dataframe tbody tr th:only-of-type {\n",
       "        vertical-align: middle;\n",
       "    }\n",
       "\n",
       "    .dataframe tbody tr th {\n",
       "        vertical-align: top;\n",
       "    }\n",
       "\n",
       "    .dataframe thead th {\n",
       "        text-align: right;\n",
       "    }\n",
       "</style>\n",
       "<table border=\"1\" class=\"dataframe\">\n",
       "  <thead>\n",
       "    <tr style=\"text-align: right;\">\n",
       "      <th></th>\n",
       "      <th>id</th>\n",
       "      <th>text</th>\n",
       "      <th>target</th>\n",
       "    </tr>\n",
       "  </thead>\n",
       "  <tbody>\n",
       "    <tr>\n",
       "      <th>0</th>\n",
       "      <td>1</td>\n",
       "      <td>Our Deeds are the Reason of this #earthquake M...</td>\n",
       "      <td>1</td>\n",
       "    </tr>\n",
       "    <tr>\n",
       "      <th>1</th>\n",
       "      <td>4</td>\n",
       "      <td>Forest fire near La Ronge Sask. Canada</td>\n",
       "      <td>1</td>\n",
       "    </tr>\n",
       "    <tr>\n",
       "      <th>2</th>\n",
       "      <td>5</td>\n",
       "      <td>All residents asked to 'shelter in place' are ...</td>\n",
       "      <td>1</td>\n",
       "    </tr>\n",
       "    <tr>\n",
       "      <th>3</th>\n",
       "      <td>6</td>\n",
       "      <td>13,000 people receive #wildfires evacuation or...</td>\n",
       "      <td>1</td>\n",
       "    </tr>\n",
       "    <tr>\n",
       "      <th>4</th>\n",
       "      <td>7</td>\n",
       "      <td>Just got sent this photo from Ruby #Alaska as ...</td>\n",
       "      <td>1</td>\n",
       "    </tr>\n",
       "  </tbody>\n",
       "</table>\n",
       "</div>"
      ],
      "text/plain": [
       "   id                                               text  target\n",
       "0   1  Our Deeds are the Reason of this #earthquake M...       1\n",
       "1   4             Forest fire near La Ronge Sask. Canada       1\n",
       "2   5  All residents asked to 'shelter in place' are ...       1\n",
       "3   6  13,000 people receive #wildfires evacuation or...       1\n",
       "4   7  Just got sent this photo from Ruby #Alaska as ...       1"
      ]
     },
     "execution_count": 52,
     "metadata": {},
     "output_type": "execute_result"
    }
   ],
   "source": [
    "# This is what the data looks like\n",
    "train_df.head()"
   ]
  },
  {
   "cell_type": "markdown",
   "metadata": {
    "id": "x4fcBkumYkn9"
   },
   "source": [
    "## Data Cleaning"
   ]
  },
  {
   "cell_type": "code",
   "execution_count": 53,
   "metadata": {
    "colab": {
     "base_uri": "https://localhost:8080/",
     "height": 204
    },
    "id": "Ym_ITgsgYkn9",
    "outputId": "7e291ac7-66b7-4291-e8cd-030b995dc4fe",
    "scrolled": true
   },
   "outputs": [
    {
     "data": {
      "text/html": [
       "<div>\n",
       "<style scoped>\n",
       "    .dataframe tbody tr th:only-of-type {\n",
       "        vertical-align: middle;\n",
       "    }\n",
       "\n",
       "    .dataframe tbody tr th {\n",
       "        vertical-align: top;\n",
       "    }\n",
       "\n",
       "    .dataframe thead th {\n",
       "        text-align: right;\n",
       "    }\n",
       "</style>\n",
       "<table border=\"1\" class=\"dataframe\">\n",
       "  <thead>\n",
       "    <tr style=\"text-align: right;\">\n",
       "      <th></th>\n",
       "      <th>id</th>\n",
       "      <th>text</th>\n",
       "      <th>target</th>\n",
       "      <th>text_clean</th>\n",
       "    </tr>\n",
       "  </thead>\n",
       "  <tbody>\n",
       "    <tr>\n",
       "      <th>0</th>\n",
       "      <td>1</td>\n",
       "      <td>Our Deeds are the Reason of this #earthquake M...</td>\n",
       "      <td>1</td>\n",
       "      <td>Our Deeds are the Reason of this #earthquake M...</td>\n",
       "    </tr>\n",
       "    <tr>\n",
       "      <th>1</th>\n",
       "      <td>4</td>\n",
       "      <td>Forest fire near La Ronge Sask. Canada</td>\n",
       "      <td>1</td>\n",
       "      <td>Forest fire near La Ronge Sask. Canada</td>\n",
       "    </tr>\n",
       "    <tr>\n",
       "      <th>2</th>\n",
       "      <td>5</td>\n",
       "      <td>All residents asked to 'shelter in place' are ...</td>\n",
       "      <td>1</td>\n",
       "      <td>All residents asked to 'shelter in place' are ...</td>\n",
       "    </tr>\n",
       "    <tr>\n",
       "      <th>3</th>\n",
       "      <td>6</td>\n",
       "      <td>13,000 people receive #wildfires evacuation or...</td>\n",
       "      <td>1</td>\n",
       "      <td>13,000 people receive #wildfires evacuation or...</td>\n",
       "    </tr>\n",
       "    <tr>\n",
       "      <th>4</th>\n",
       "      <td>7</td>\n",
       "      <td>Just got sent this photo from Ruby #Alaska as ...</td>\n",
       "      <td>1</td>\n",
       "      <td>Just got sent this photo from Ruby #Alaska as ...</td>\n",
       "    </tr>\n",
       "  </tbody>\n",
       "</table>\n",
       "</div>"
      ],
      "text/plain": [
       "   id                                               text  target  \\\n",
       "0   1  Our Deeds are the Reason of this #earthquake M...       1   \n",
       "1   4             Forest fire near La Ronge Sask. Canada       1   \n",
       "2   5  All residents asked to 'shelter in place' are ...       1   \n",
       "3   6  13,000 people receive #wildfires evacuation or...       1   \n",
       "4   7  Just got sent this photo from Ruby #Alaska as ...       1   \n",
       "\n",
       "                                          text_clean  \n",
       "0  Our Deeds are the Reason of this #earthquake M...  \n",
       "1             Forest fire near La Ronge Sask. Canada  \n",
       "2  All residents asked to 'shelter in place' are ...  \n",
       "3  13,000 people receive #wildfires evacuation or...  \n",
       "4  Just got sent this photo from Ruby #Alaska as ...  "
      ]
     },
     "execution_count": 53,
     "metadata": {},
     "output_type": "execute_result"
    }
   ],
   "source": [
    "def remove_emoji(text):\n",
    "    emoji_pattern = re.compile(\"[\"\n",
    "                           u\"\\U0001F600-\\U0001F64F\"  # emoticons\n",
    "                           u\"\\U0001F300-\\U0001F5FF\"  # symbols & pictographs\n",
    "                           u\"\\U0001F680-\\U0001F6FF\"  # transport & map symbols\n",
    "                           u\"\\U0001F1E0-\\U0001F1FF\"  # flags (iOS)\n",
    "                           u\"\\U00002702-\\U000027B0\"\n",
    "                           u\"\\U000024C2-\\U0001F251\"\n",
    "                           \"]+\", flags=re.UNICODE)\n",
    "    return emoji_pattern.sub(r'', text)\n",
    "\n",
    "def clean_text(text):\n",
    "    text = ' '.join(x for x in text.split() if not x.startswith('http')) # Remove links\n",
    "    text = ''.join([x for x in text if x in string.printable]) # Remove non-ASCII chars\n",
    "    text = re.sub(r'\\n',' ', text) # Remove line breaks\n",
    "    text = re.sub('\\s+', ' ', text).strip() # Remove leading, trailing, and extra spaces\n",
    "    text = remove_emoji(text) # Remove emojis\n",
    "    return text\n",
    "\n",
    "def process_text(df):\n",
    "    df['text_clean'] = df['text'].apply(lambda x: clean_text(x))\n",
    "    return df\n",
    "    \n",
    "train_df_cleaned = process_text(train_df)\n",
    "test_df_cleaned = process_text(test_df)\n",
    "\n",
    "train_df_cleaned.head()"
   ]
  },
  {
   "cell_type": "code",
   "execution_count": 54,
   "metadata": {
    "colab": {
     "base_uri": "https://localhost:8080/"
    },
    "id": "i21V42_iYkn9",
    "outputId": "da924304-5e29-4898-beea-3928d7e0e5c5",
    "scrolled": true
   },
   "outputs": [
    {
     "name": "stdout",
     "output_type": "stream",
     "text": [
      "M1.94 [01:04 UTC]?5km S of Volcano Hawaii. http://t.co/zDtoyd8EbJ\n",
      "M1.94 [01:04 UTC]?5km S of Volcano Hawaii.\n"
     ]
    }
   ],
   "source": [
    "# Example of a cleaned tweet - link removed here!\n",
    "print(train_df_cleaned.at[7610,\"text\"])\n",
    "print(train_df_cleaned.at[7610,\"text_clean\"])"
   ]
  },
  {
   "cell_type": "markdown",
   "metadata": {
    "id": "GO4loDQGYkn-"
   },
   "source": [
    "## Data Processing"
   ]
  },
  {
   "cell_type": "code",
   "execution_count": 55,
   "metadata": {
    "id": "jNMSTWz9Ykn-",
    "scrolled": true
   },
   "outputs": [],
   "source": [
    "# Map tweets to feature vector with sklearn Coutn Vectorizer - counts word occurrences across all tweets\n",
    "count_vectorizer = feature_extraction.text.CountVectorizer()\n",
    "\n",
    "train_vectors = count_vectorizer.fit_transform(train_df[\"text\"])\n",
    "test_vectors = count_vectorizer.transform(test_df[\"text\"])"
   ]
  },
  {
   "cell_type": "code",
   "execution_count": 56,
   "metadata": {
    "id": "A8sLWrXfYkn-",
    "scrolled": true
   },
   "outputs": [],
   "source": [
    "# Map the cleaned data to feature vectors\n",
    "train_vectors_cleaned = count_vectorizer.fit_transform(train_df_cleaned[\"text_clean\"])\n",
    "test_vectors_cleaned = count_vectorizer.transform(test_df_cleaned[\"text_clean\"])"
   ]
  },
  {
   "cell_type": "markdown",
   "metadata": {
    "id": "ZsQrCWHIYkn-"
   },
   "source": [
    "## Create DataFrames for storing Results"
   ]
  },
  {
   "cell_type": "code",
   "execution_count": 57,
   "metadata": {
    "colab": {
     "base_uri": "https://localhost:8080/",
     "height": 142
    },
    "id": "aOQxX-LHYkn-",
    "outputId": "f6ee0a81-0025-44d6-c9c9-d951b22475fb",
    "scrolled": true
   },
   "outputs": [
    {
     "data": {
      "text/html": [
       "<div>\n",
       "<style scoped>\n",
       "    .dataframe tbody tr th:only-of-type {\n",
       "        vertical-align: middle;\n",
       "    }\n",
       "\n",
       "    .dataframe tbody tr th {\n",
       "        vertical-align: top;\n",
       "    }\n",
       "\n",
       "    .dataframe thead th {\n",
       "        text-align: right;\n",
       "    }\n",
       "</style>\n",
       "<table border=\"1\" class=\"dataframe\">\n",
       "  <thead>\n",
       "    <tr style=\"text-align: right;\">\n",
       "      <th></th>\n",
       "      <th>Fold</th>\n",
       "    </tr>\n",
       "  </thead>\n",
       "  <tbody>\n",
       "    <tr>\n",
       "      <th>0</th>\n",
       "      <td>1</td>\n",
       "    </tr>\n",
       "    <tr>\n",
       "      <th>1</th>\n",
       "      <td>2</td>\n",
       "    </tr>\n",
       "    <tr>\n",
       "      <th>2</th>\n",
       "      <td>3</td>\n",
       "    </tr>\n",
       "  </tbody>\n",
       "</table>\n",
       "</div>"
      ],
      "text/plain": [
       "   Fold\n",
       "0     1\n",
       "1     2\n",
       "2     3"
      ]
     },
     "execution_count": 57,
     "metadata": {},
     "output_type": "execute_result"
    }
   ],
   "source": [
    "# Set up dataframe to hold cross validation values (3 folds)\n",
    "cv_values = pd.DataFrame({'Fold':[1, 2, 3]})\n",
    "cv_values.head()"
   ]
  },
  {
   "cell_type": "code",
   "execution_count": 58,
   "metadata": {
    "colab": {
     "base_uri": "https://localhost:8080/",
     "height": 204
    },
    "id": "ONnhFuYyYkn-",
    "outputId": "d690e535-17a7-458a-ce4f-07915ef8dd22",
    "scrolled": true
   },
   "outputs": [
    {
     "data": {
      "text/html": [
       "<div>\n",
       "<style scoped>\n",
       "    .dataframe tbody tr th:only-of-type {\n",
       "        vertical-align: middle;\n",
       "    }\n",
       "\n",
       "    .dataframe tbody tr th {\n",
       "        vertical-align: top;\n",
       "    }\n",
       "\n",
       "    .dataframe thead th {\n",
       "        text-align: right;\n",
       "    }\n",
       "</style>\n",
       "<table border=\"1\" class=\"dataframe\">\n",
       "  <thead>\n",
       "    <tr style=\"text-align: right;\">\n",
       "      <th></th>\n",
       "      <th>id</th>\n",
       "      <th>text</th>\n",
       "    </tr>\n",
       "  </thead>\n",
       "  <tbody>\n",
       "    <tr>\n",
       "      <th>0</th>\n",
       "      <td>0</td>\n",
       "      <td>Just happened a terrible car crash</td>\n",
       "    </tr>\n",
       "    <tr>\n",
       "      <th>1</th>\n",
       "      <td>2</td>\n",
       "      <td>Heard about #earthquake is different cities, s...</td>\n",
       "    </tr>\n",
       "    <tr>\n",
       "      <th>2</th>\n",
       "      <td>3</td>\n",
       "      <td>there is a forest fire at spot pond, geese are...</td>\n",
       "    </tr>\n",
       "    <tr>\n",
       "      <th>3</th>\n",
       "      <td>9</td>\n",
       "      <td>Apocalypse lighting. #Spokane #wildfires</td>\n",
       "    </tr>\n",
       "    <tr>\n",
       "      <th>4</th>\n",
       "      <td>11</td>\n",
       "      <td>Typhoon Soudelor kills 28 in China and Taiwan</td>\n",
       "    </tr>\n",
       "  </tbody>\n",
       "</table>\n",
       "</div>"
      ],
      "text/plain": [
       "   id                                               text\n",
       "0   0                 Just happened a terrible car crash\n",
       "1   2  Heard about #earthquake is different cities, s...\n",
       "2   3  there is a forest fire at spot pond, geese are...\n",
       "3   9           Apocalypse lighting. #Spokane #wildfires\n",
       "4  11      Typhoon Soudelor kills 28 in China and Taiwan"
      ]
     },
     "execution_count": 58,
     "metadata": {},
     "output_type": "execute_result"
    }
   ],
   "source": [
    "# Set up dataframe to hold predicted values for test data\n",
    "# Drop unused columns\n",
    "predicted_df = pd.read_csv(\"test.csv\").drop(['keyword','location'],axis=1);\n",
    "predicted_df.head()"
   ]
  },
  {
   "cell_type": "markdown",
   "metadata": {
    "id": "00GSbJC3Ykn-"
   },
   "source": [
    "## Plot Settings for Confusion Matricies"
   ]
  },
  {
   "cell_type": "code",
   "execution_count": 59,
   "metadata": {
    "id": "hZHsWtKxYkn-",
    "scrolled": true
   },
   "outputs": [],
   "source": [
    "# Default Plot settings for Confusion Matricies\n",
    "\n",
    "def plotConfusionMatrix(confusion_mat, title=\"\",font=\"Arial\"):\n",
    "    plt.figure(figsize=(5,5))\n",
    "    plt.imshow(confusion_mat, interpolation='nearest', cmap='Pastel1')\n",
    "    plt.title('Confusion Matrix \\n' + title, size = 14, fontname=font)\n",
    "    plt.colorbar()\n",
    "    tick_marks = np.arange(2)\n",
    "    plt.xticks(tick_marks, [\"0\", \"1\"], rotation=45, size = 10)\n",
    "    plt.yticks(tick_marks, [\"0\", \"1\"], size = 10)\n",
    "    plt.tight_layout()\n",
    "    plt.ylabel('Actual label', size = 12, fontname=font)\n",
    "    plt.xlabel('Predicted label', size = 12, fontname=font)\n",
    "    width, height = confusion_mat.shape\n",
    "    for x in range(width):\n",
    "        for y in range(height):\n",
    "            plt.annotate(str(confusion_mat[x][y]), xy=(y, x), size=12, fontname=font,\n",
    "                            horizontalalignment='center', \n",
    "                            verticalalignment='center')"
   ]
  },
  {
   "cell_type": "markdown",
   "metadata": {
    "id": "83pdL2MyYkn-"
   },
   "source": [
    "## Models"
   ]
  },
  {
   "cell_type": "markdown",
   "metadata": {
    "id": "6U5Ipzs4Ykn-"
   },
   "source": [
    "### Linear Fit"
   ]
  },
  {
   "cell_type": "markdown",
   "metadata": {
    "id": "M4p2PXFzYkn-"
   },
   "source": [
    "#### Uncleaned Data"
   ]
  },
  {
   "cell_type": "code",
   "execution_count": 60,
   "metadata": {
    "colab": {
     "base_uri": "https://localhost:8080/",
     "height": 221
    },
    "id": "cgtt60LMYkn-",
    "outputId": "5e0b3740-dcd1-4895-afbc-1f2869fa1243",
    "scrolled": true
   },
   "outputs": [
    {
     "name": "stdout",
     "output_type": "stream",
     "text": [
      "[0.59485531 0.56498283 0.64149093]\n"
     ]
    },
    {
     "data": {
      "text/html": [
       "<div>\n",
       "<style scoped>\n",
       "    .dataframe tbody tr th:only-of-type {\n",
       "        vertical-align: middle;\n",
       "    }\n",
       "\n",
       "    .dataframe tbody tr th {\n",
       "        vertical-align: top;\n",
       "    }\n",
       "\n",
       "    .dataframe thead th {\n",
       "        text-align: right;\n",
       "    }\n",
       "</style>\n",
       "<table border=\"1\" class=\"dataframe\">\n",
       "  <thead>\n",
       "    <tr style=\"text-align: right;\">\n",
       "      <th></th>\n",
       "      <th>id</th>\n",
       "      <th>text</th>\n",
       "      <th>Linear Fit, Unclean</th>\n",
       "    </tr>\n",
       "  </thead>\n",
       "  <tbody>\n",
       "    <tr>\n",
       "      <th>0</th>\n",
       "      <td>0</td>\n",
       "      <td>Just happened a terrible car crash</td>\n",
       "      <td>0</td>\n",
       "    </tr>\n",
       "    <tr>\n",
       "      <th>1</th>\n",
       "      <td>2</td>\n",
       "      <td>Heard about #earthquake is different cities, s...</td>\n",
       "      <td>1</td>\n",
       "    </tr>\n",
       "    <tr>\n",
       "      <th>2</th>\n",
       "      <td>3</td>\n",
       "      <td>there is a forest fire at spot pond, geese are...</td>\n",
       "      <td>1</td>\n",
       "    </tr>\n",
       "    <tr>\n",
       "      <th>3</th>\n",
       "      <td>9</td>\n",
       "      <td>Apocalypse lighting. #Spokane #wildfires</td>\n",
       "      <td>0</td>\n",
       "    </tr>\n",
       "    <tr>\n",
       "      <th>4</th>\n",
       "      <td>11</td>\n",
       "      <td>Typhoon Soudelor kills 28 in China and Taiwan</td>\n",
       "      <td>1</td>\n",
       "    </tr>\n",
       "  </tbody>\n",
       "</table>\n",
       "</div>"
      ],
      "text/plain": [
       "   id                                               text  Linear Fit, Unclean\n",
       "0   0                 Just happened a terrible car crash                    0\n",
       "1   2  Heard about #earthquake is different cities, s...                    1\n",
       "2   3  there is a forest fire at spot pond, geese are...                    1\n",
       "3   9           Apocalypse lighting. #Spokane #wildfires                    0\n",
       "4  11      Typhoon Soudelor kills 28 in China and Taiwan                    1"
      ]
     },
     "execution_count": 60,
     "metadata": {},
     "output_type": "execute_result"
    }
   ],
   "source": [
    "# Linear Fit\n",
    "clf_linear = linear_model.RidgeClassifier()\n",
    "\n",
    "# Cross Validation\n",
    "scores = model_selection.cross_val_score(clf_linear, train_vectors, train_df[\"target\"], \n",
    "                                         cv=3, scoring=\"f1\")\n",
    "\n",
    "# Fit the model to training data\n",
    "clf_linear.fit(train_vectors, train_df[\"target\"])\n",
    "\n",
    "# Predictions\n",
    "predicted_df[\"Linear Fit, Unclean\"] = clf_linear.predict(test_vectors)\n",
    "\n",
    "# Add scores to cv_value dictionary\n",
    "cv_values[\"Linear Fit, Unclean\"] = scores\n",
    "\n",
    "print(scores)\n",
    "predicted_df.head()"
   ]
  },
  {
   "cell_type": "code",
   "execution_count": 61,
   "metadata": {
    "colab": {
     "base_uri": "https://localhost:8080/",
     "height": 394
    },
    "id": "Vd2GL5TbYkn-",
    "outputId": "f4384bb5-9347-4879-ac21-632fcc2086a5",
    "scrolled": true
   },
   "outputs": [
    {
     "data": {
      "image/png": "[encoded data removed]",
      "text/plain": [
       "<Figure size 360x360 with 2 Axes>"
      ]
     },
     "metadata": {
      "needs_background": "light"
     },
     "output_type": "display_data"
    }
   ],
   "source": [
    "# Confusion Matrix - Linear Fit, Unclean\n",
    "cmat = pd.DataFrame(confusion_matrix(train_df['target'], \n",
    "                    clf_linear.predict(train_vectors)))\n",
    "plotConfusionMatrix(cmat, \"Linear Fit, Unclean\")"
   ]
  },
  {
   "cell_type": "markdown",
   "metadata": {
    "id": "GyxOAcCLYkn_"
   },
   "source": [
    "#### Cleaned Data"
   ]
  },
  {
   "cell_type": "code",
   "execution_count": 62,
   "metadata": {
    "id": "dU4WnpUqYkn_",
    "outputId": "ff4ef074-5e3a-4d76-9680-ff63563a126a",
    "scrolled": true
   },
   "outputs": [
    {
     "name": "stdout",
     "output_type": "stream",
     "text": [
      "[0.59088472 0.54958066 0.62338949]\n"
     ]
    },
    {
     "data": {
      "text/html": [
       "<div>\n",
       "<style scoped>\n",
       "    .dataframe tbody tr th:only-of-type {\n",
       "        vertical-align: middle;\n",
       "    }\n",
       "\n",
       "    .dataframe tbody tr th {\n",
       "        vertical-align: top;\n",
       "    }\n",
       "\n",
       "    .dataframe thead th {\n",
       "        text-align: right;\n",
       "    }\n",
       "</style>\n",
       "<table border=\"1\" class=\"dataframe\">\n",
       "  <thead>\n",
       "    <tr style=\"text-align: right;\">\n",
       "      <th></th>\n",
       "      <th>id</th>\n",
       "      <th>text</th>\n",
       "      <th>Linear Fit, Unclean</th>\n",
       "      <th>Linear Fit Target, Clean</th>\n",
       "    </tr>\n",
       "  </thead>\n",
       "  <tbody>\n",
       "    <tr>\n",
       "      <th>0</th>\n",
       "      <td>0</td>\n",
       "      <td>Just happened a terrible car crash</td>\n",
       "      <td>0</td>\n",
       "      <td>0</td>\n",
       "    </tr>\n",
       "    <tr>\n",
       "      <th>1</th>\n",
       "      <td>2</td>\n",
       "      <td>Heard about #earthquake is different cities, s...</td>\n",
       "      <td>1</td>\n",
       "      <td>1</td>\n",
       "    </tr>\n",
       "    <tr>\n",
       "      <th>2</th>\n",
       "      <td>3</td>\n",
       "      <td>there is a forest fire at spot pond, geese are...</td>\n",
       "      <td>1</td>\n",
       "      <td>1</td>\n",
       "    </tr>\n",
       "    <tr>\n",
       "      <th>3</th>\n",
       "      <td>9</td>\n",
       "      <td>Apocalypse lighting. #Spokane #wildfires</td>\n",
       "      <td>0</td>\n",
       "      <td>1</td>\n",
       "    </tr>\n",
       "    <tr>\n",
       "      <th>4</th>\n",
       "      <td>11</td>\n",
       "      <td>Typhoon Soudelor kills 28 in China and Taiwan</td>\n",
       "      <td>1</td>\n",
       "      <td>1</td>\n",
       "    </tr>\n",
       "  </tbody>\n",
       "</table>\n",
       "</div>"
      ],
      "text/plain": [
       "   id                                               text  Linear Fit, Unclean  \\\n",
       "0   0                 Just happened a terrible car crash                    0   \n",
       "1   2  Heard about #earthquake is different cities, s...                    1   \n",
       "2   3  there is a forest fire at spot pond, geese are...                    1   \n",
       "3   9           Apocalypse lighting. #Spokane #wildfires                    0   \n",
       "4  11      Typhoon Soudelor kills 28 in China and Taiwan                    1   \n",
       "\n",
       "   Linear Fit Target, Clean  \n",
       "0                         0  \n",
       "1                         1  \n",
       "2                         1  \n",
       "3                         1  \n",
       "4                         1  "
      ]
     },
     "execution_count": 62,
     "metadata": {},
     "output_type": "execute_result"
    }
   ],
   "source": [
    "# Linear Fit - Cleaned Data\n",
    "clf_linear_clean = linear_model.RidgeClassifier()\n",
    "\n",
    "# Cross Validation\n",
    "scores = model_selection.cross_val_score(clf_linear_clean, train_vectors_cleaned, train_df_cleaned[\"target\"], \n",
    "                                         cv=3, scoring=\"f1\")\n",
    "\n",
    "# Fit the model to training data\n",
    "clf_linear_clean.fit(train_vectors_cleaned, train_df_cleaned[\"target\"])\n",
    "\n",
    "# Predictions\n",
    "predicted_df[\"Linear Fit Target, Clean\"] = clf_linear_clean.predict(test_vectors_cleaned)\n",
    "\n",
    "# Add scores to cv_value dictionary\n",
    "cv_values[\"Linear Fit, Clean\"] = scores\n",
    "\n",
    "print(scores)\n",
    "predicted_df.head()"
   ]
  },
  {
   "cell_type": "code",
   "execution_count": 63,
   "metadata": {
    "id": "efsqIrEyYkn_",
    "outputId": "f8e02606-170e-4837-983f-c1632cc5b9d8",
    "scrolled": true
   },
   "outputs": [
    {
     "data": {
      "image/png": "[encoded data removed]",
      "text/plain": [
       "<Figure size 360x360 with 2 Axes>"
      ]
     },
     "metadata": {
      "needs_background": "light"
     },
     "output_type": "display_data"
    }
   ],
   "source": [
    "# Confusion Matrix - Linear Fit, Clean\n",
    "cmat = pd.DataFrame(confusion_matrix(train_df_cleaned['target'], \n",
    "                    clf_linear_clean.predict(train_vectors_cleaned)))\n",
    "plotConfusionMatrix(cmat, \"Linear Fit, Clean\")"
   ]
  },
  {
   "cell_type": "markdown",
   "metadata": {
    "id": "zL5BUSo7Ykn_"
   },
   "source": [
    "### Basic Logistic Regression"
   ]
  },
  {
   "cell_type": "markdown",
   "metadata": {
    "id": "kyy1OqBhYkn_"
   },
   "source": [
    "#### Uncleaned Data"
   ]
  },
  {
   "cell_type": "code",
   "execution_count": 64,
   "metadata": {
    "colab": {
     "base_uri": "https://localhost:8080/",
     "height": 221
    },
    "id": "fsvBIINkYkn_",
    "outputId": "cd1003bb-e8f9-48de-9fdb-6025894b41a4",
    "scrolled": true
   },
   "outputs": [
    {
     "name": "stdout",
     "output_type": "stream",
     "text": [
      "[0.6387547  0.61347869 0.68285431]\n"
     ]
    },
    {
     "data": {
      "text/html": [
       "<div>\n",
       "<style scoped>\n",
       "    .dataframe tbody tr th:only-of-type {\n",
       "        vertical-align: middle;\n",
       "    }\n",
       "\n",
       "    .dataframe tbody tr th {\n",
       "        vertical-align: top;\n",
       "    }\n",
       "\n",
       "    .dataframe thead th {\n",
       "        text-align: right;\n",
       "    }\n",
       "</style>\n",
       "<table border=\"1\" class=\"dataframe\">\n",
       "  <thead>\n",
       "    <tr style=\"text-align: right;\">\n",
       "      <th></th>\n",
       "      <th>id</th>\n",
       "      <th>text</th>\n",
       "      <th>Linear Fit, Unclean</th>\n",
       "      <th>Linear Fit Target, Clean</th>\n",
       "      <th>Basic Logistic Regression, Unclean</th>\n",
       "    </tr>\n",
       "  </thead>\n",
       "  <tbody>\n",
       "    <tr>\n",
       "      <th>0</th>\n",
       "      <td>0</td>\n",
       "      <td>Just happened a terrible car crash</td>\n",
       "      <td>0</td>\n",
       "      <td>0</td>\n",
       "      <td>1</td>\n",
       "    </tr>\n",
       "    <tr>\n",
       "      <th>1</th>\n",
       "      <td>2</td>\n",
       "      <td>Heard about #earthquake is different cities, s...</td>\n",
       "      <td>1</td>\n",
       "      <td>1</td>\n",
       "      <td>1</td>\n",
       "    </tr>\n",
       "    <tr>\n",
       "      <th>2</th>\n",
       "      <td>3</td>\n",
       "      <td>there is a forest fire at spot pond, geese are...</td>\n",
       "      <td>1</td>\n",
       "      <td>1</td>\n",
       "      <td>1</td>\n",
       "    </tr>\n",
       "    <tr>\n",
       "      <th>3</th>\n",
       "      <td>9</td>\n",
       "      <td>Apocalypse lighting. #Spokane #wildfires</td>\n",
       "      <td>0</td>\n",
       "      <td>1</td>\n",
       "      <td>0</td>\n",
       "    </tr>\n",
       "    <tr>\n",
       "      <th>4</th>\n",
       "      <td>11</td>\n",
       "      <td>Typhoon Soudelor kills 28 in China and Taiwan</td>\n",
       "      <td>1</td>\n",
       "      <td>1</td>\n",
       "      <td>1</td>\n",
       "    </tr>\n",
       "  </tbody>\n",
       "</table>\n",
       "</div>"
      ],
      "text/plain": [
       "   id                                               text  Linear Fit, Unclean  \\\n",
       "0   0                 Just happened a terrible car crash                    0   \n",
       "1   2  Heard about #earthquake is different cities, s...                    1   \n",
       "2   3  there is a forest fire at spot pond, geese are...                    1   \n",
       "3   9           Apocalypse lighting. #Spokane #wildfires                    0   \n",
       "4  11      Typhoon Soudelor kills 28 in China and Taiwan                    1   \n",
       "\n",
       "   Linear Fit Target, Clean  Basic Logistic Regression, Unclean  \n",
       "0                         0                                   1  \n",
       "1                         1                                   1  \n",
       "2                         1                                   1  \n",
       "3                         1                                   0  \n",
       "4                         1                                   1  "
      ]
     },
     "execution_count": 64,
     "metadata": {},
     "output_type": "execute_result"
    }
   ],
   "source": [
    "# Basic Logistic Regression, Unclean\n",
    "clf_log_simple = linear_model.LogisticRegression(max_iter=500)\n",
    "\n",
    "# Cross Validation\n",
    "scores = model_selection.cross_val_score(clf_log_simple, train_vectors, train_df[\"target\"], \n",
    "                                         cv=3, scoring=\"f1\")\n",
    "\n",
    "# Fit the model to training data\n",
    "clf_log_simple.fit(train_vectors, train_df[\"target\"])\n",
    "\n",
    "# Predictions\n",
    "predicted_df[\"Basic Logistic Regression, Unclean\"] = clf_log_simple.predict(test_vectors)\n",
    "\n",
    "# Add scores to cv_value dictionary\n",
    "cv_values[\"Basic Logistic Regression, Unclean\"] = scores\n",
    "\n",
    "print(scores)\n",
    "predicted_df.head()"
   ]
  },
  {
   "cell_type": "code",
   "execution_count": 65,
   "metadata": {
    "colab": {
     "base_uri": "https://localhost:8080/",
     "height": 360
    },
    "id": "aMon7yZEYkn_",
    "outputId": "f5e69649-daa7-4e52-bedf-cd2f3942bb1d",
    "scrolled": true
   },
   "outputs": [
    {
     "data": {
      "image/png": "[encoded data removed]",
      "text/plain": [
       "<Figure size 360x360 with 2 Axes>"
      ]
     },
     "metadata": {
      "needs_background": "light"
     },
     "output_type": "display_data"
    }
   ],
   "source": [
    "# Confusion Matrix - Basic Logistic Regression, Unclean\n",
    "cmat = pd.DataFrame(confusion_matrix(train_df['target'], \n",
    "                    clf_log_simple.predict(train_vectors)))\n",
    "plotConfusionMatrix(cmat, \"Basic Logistic Regression, Unclean\")"
   ]
  },
  {
   "cell_type": "markdown",
   "metadata": {
    "id": "gl5OShiaYkn_"
   },
   "source": [
    "#### Cleaned"
   ]
  },
  {
   "cell_type": "code",
   "execution_count": 66,
   "metadata": {
    "colab": {
     "base_uri": "https://localhost:8080/",
     "height": 221
    },
    "id": "CKhNksmIYkn_",
    "outputId": "3dbc4814-1d36-471b-ab8b-4775956750ee",
    "scrolled": true
   },
   "outputs": [
    {
     "name": "stdout",
     "output_type": "stream",
     "text": [
      "[0.63546256 0.60152672 0.67911201]\n"
     ]
    },
    {
     "data": {
      "text/html": [
       "<div>\n",
       "<style scoped>\n",
       "    .dataframe tbody tr th:only-of-type {\n",
       "        vertical-align: middle;\n",
       "    }\n",
       "\n",
       "    .dataframe tbody tr th {\n",
       "        vertical-align: top;\n",
       "    }\n",
       "\n",
       "    .dataframe thead th {\n",
       "        text-align: right;\n",
       "    }\n",
       "</style>\n",
       "<table border=\"1\" class=\"dataframe\">\n",
       "  <thead>\n",
       "    <tr style=\"text-align: right;\">\n",
       "      <th></th>\n",
       "      <th>id</th>\n",
       "      <th>text</th>\n",
       "      <th>Linear Fit, Unclean</th>\n",
       "      <th>Linear Fit Target, Clean</th>\n",
       "      <th>Basic Logistic Regression, Unclean</th>\n",
       "      <th>Basic Logistic Regression, Clean</th>\n",
       "    </tr>\n",
       "  </thead>\n",
       "  <tbody>\n",
       "    <tr>\n",
       "      <th>0</th>\n",
       "      <td>0</td>\n",
       "      <td>Just happened a terrible car crash</td>\n",
       "      <td>0</td>\n",
       "      <td>0</td>\n",
       "      <td>1</td>\n",
       "      <td>1</td>\n",
       "    </tr>\n",
       "    <tr>\n",
       "      <th>1</th>\n",
       "      <td>2</td>\n",
       "      <td>Heard about #earthquake is different cities, s...</td>\n",
       "      <td>1</td>\n",
       "      <td>1</td>\n",
       "      <td>1</td>\n",
       "      <td>1</td>\n",
       "    </tr>\n",
       "    <tr>\n",
       "      <th>2</th>\n",
       "      <td>3</td>\n",
       "      <td>there is a forest fire at spot pond, geese are...</td>\n",
       "      <td>1</td>\n",
       "      <td>1</td>\n",
       "      <td>1</td>\n",
       "      <td>1</td>\n",
       "    </tr>\n",
       "    <tr>\n",
       "      <th>3</th>\n",
       "      <td>9</td>\n",
       "      <td>Apocalypse lighting. #Spokane #wildfires</td>\n",
       "      <td>0</td>\n",
       "      <td>1</td>\n",
       "      <td>0</td>\n",
       "      <td>0</td>\n",
       "    </tr>\n",
       "    <tr>\n",
       "      <th>4</th>\n",
       "      <td>11</td>\n",
       "      <td>Typhoon Soudelor kills 28 in China and Taiwan</td>\n",
       "      <td>1</td>\n",
       "      <td>1</td>\n",
       "      <td>1</td>\n",
       "      <td>1</td>\n",
       "    </tr>\n",
       "  </tbody>\n",
       "</table>\n",
       "</div>"
      ],
      "text/plain": [
       "   id                                               text  Linear Fit, Unclean  \\\n",
       "0   0                 Just happened a terrible car crash                    0   \n",
       "1   2  Heard about #earthquake is different cities, s...                    1   \n",
       "2   3  there is a forest fire at spot pond, geese are...                    1   \n",
       "3   9           Apocalypse lighting. #Spokane #wildfires                    0   \n",
       "4  11      Typhoon Soudelor kills 28 in China and Taiwan                    1   \n",
       "\n",
       "   Linear Fit Target, Clean  Basic Logistic Regression, Unclean  \\\n",
       "0                         0                                   1   \n",
       "1                         1                                   1   \n",
       "2                         1                                   1   \n",
       "3                         1                                   0   \n",
       "4                         1                                   1   \n",
       "\n",
       "   Basic Logistic Regression, Clean  \n",
       "0                                 1  \n",
       "1                                 1  \n",
       "2                                 1  \n",
       "3                                 0  \n",
       "4                                 1  "
      ]
     },
     "execution_count": 66,
     "metadata": {},
     "output_type": "execute_result"
    }
   ],
   "source": [
    "# Basic Logistic Regression, Cleaned Data\n",
    "clf_log_simple_cleaned = linear_model.LogisticRegression(max_iter=500)\n",
    "\n",
    "# Cross Validation\n",
    "scores = model_selection.cross_val_score(clf_log_simple_cleaned, train_vectors_cleaned, train_df_cleaned[\"target\"], \n",
    "                                         cv=3, scoring=\"f1\")\n",
    "\n",
    "# Fit the model to training data\n",
    "clf_log_simple_cleaned.fit(train_vectors_cleaned, train_df_cleaned[\"target\"])\n",
    "\n",
    "# Predictions\n",
    "predicted_df[\"Basic Logistic Regression, Clean\"] = clf_log_simple_cleaned.predict(test_vectors_cleaned)\n",
    "\n",
    "# Add scores to cv_value dictionary\n",
    "cv_values[\"Basic Logistic Regression, Clean\"] = scores\n",
    "\n",
    "print(scores)\n",
    "predicted_df.head()"
   ]
  },
  {
   "cell_type": "code",
   "execution_count": 67,
   "metadata": {
    "colab": {
     "base_uri": "https://localhost:8080/",
     "height": 360
    },
    "id": "SO3xjA7pYkn_",
    "outputId": "90636852-626b-4218-b807-6011fbf0fc1f",
    "scrolled": true
   },
   "outputs": [
    {
     "data": {
      "image/png": "[encoded data removed]",
      "text/plain": [
       "<Figure size 360x360 with 2 Axes>"
      ]
     },
     "metadata": {
      "needs_background": "light"
     },
     "output_type": "display_data"
    }
   ],
   "source": [
    "# Confusion Matrix - Basic Logistic Regression, Clean\n",
    "cmat = pd.DataFrame(confusion_matrix(train_df_cleaned['target'], \n",
    "                    clf_log_simple_cleaned.predict(train_vectors_cleaned)))\n",
    "plotConfusionMatrix(cmat, \"Basic Logistic Regression, Clean\")"
   ]
  },
  {
   "cell_type": "markdown",
   "metadata": {
    "id": "duy-tHtNYkn_"
   },
   "source": [
    "### Weighted Logistic Regression"
   ]
  },
  {
   "cell_type": "markdown",
   "metadata": {
    "id": "XBjvF-5pYkn_"
   },
   "source": [
    "#### Unclean Data"
   ]
  },
  {
   "cell_type": "code",
   "execution_count": 68,
   "metadata": {
    "id": "loap4XmmYkn_",
    "outputId": "7e673566-139d-4985-f4a8-cc9983e0a0eb",
    "scrolled": true
   },
   "outputs": [
    {
     "name": "stdout",
     "output_type": "stream",
     "text": [
      "[0.65600825 0.62523901 0.69552941]\n"
     ]
    },
    {
     "data": {
      "text/html": [
       "<div>\n",
       "<style scoped>\n",
       "    .dataframe tbody tr th:only-of-type {\n",
       "        vertical-align: middle;\n",
       "    }\n",
       "\n",
       "    .dataframe tbody tr th {\n",
       "        vertical-align: top;\n",
       "    }\n",
       "\n",
       "    .dataframe thead th {\n",
       "        text-align: right;\n",
       "    }\n",
       "</style>\n",
       "<table border=\"1\" class=\"dataframe\">\n",
       "  <thead>\n",
       "    <tr style=\"text-align: right;\">\n",
       "      <th></th>\n",
       "      <th>id</th>\n",
       "      <th>text</th>\n",
       "      <th>Linear Fit, Unclean</th>\n",
       "      <th>Linear Fit Target, Clean</th>\n",
       "      <th>Basic Logistic Regression, Unclean</th>\n",
       "      <th>Basic Logistic Regression, Clean</th>\n",
       "      <th>Weighted Logistic Regression, Unclean</th>\n",
       "    </tr>\n",
       "  </thead>\n",
       "  <tbody>\n",
       "    <tr>\n",
       "      <th>0</th>\n",
       "      <td>0</td>\n",
       "      <td>Just happened a terrible car crash</td>\n",
       "      <td>0</td>\n",
       "      <td>0</td>\n",
       "      <td>1</td>\n",
       "      <td>1</td>\n",
       "      <td>1</td>\n",
       "    </tr>\n",
       "    <tr>\n",
       "      <th>1</th>\n",
       "      <td>2</td>\n",
       "      <td>Heard about #earthquake is different cities, s...</td>\n",
       "      <td>1</td>\n",
       "      <td>1</td>\n",
       "      <td>1</td>\n",
       "      <td>1</td>\n",
       "      <td>1</td>\n",
       "    </tr>\n",
       "    <tr>\n",
       "      <th>2</th>\n",
       "      <td>3</td>\n",
       "      <td>there is a forest fire at spot pond, geese are...</td>\n",
       "      <td>1</td>\n",
       "      <td>1</td>\n",
       "      <td>1</td>\n",
       "      <td>1</td>\n",
       "      <td>1</td>\n",
       "    </tr>\n",
       "    <tr>\n",
       "      <th>3</th>\n",
       "      <td>9</td>\n",
       "      <td>Apocalypse lighting. #Spokane #wildfires</td>\n",
       "      <td>0</td>\n",
       "      <td>1</td>\n",
       "      <td>0</td>\n",
       "      <td>0</td>\n",
       "      <td>0</td>\n",
       "    </tr>\n",
       "    <tr>\n",
       "      <th>4</th>\n",
       "      <td>11</td>\n",
       "      <td>Typhoon Soudelor kills 28 in China and Taiwan</td>\n",
       "      <td>1</td>\n",
       "      <td>1</td>\n",
       "      <td>1</td>\n",
       "      <td>1</td>\n",
       "      <td>1</td>\n",
       "    </tr>\n",
       "  </tbody>\n",
       "</table>\n",
       "</div>"
      ],
      "text/plain": [
       "   id                                               text  Linear Fit, Unclean  \\\n",
       "0   0                 Just happened a terrible car crash                    0   \n",
       "1   2  Heard about #earthquake is different cities, s...                    1   \n",
       "2   3  there is a forest fire at spot pond, geese are...                    1   \n",
       "3   9           Apocalypse lighting. #Spokane #wildfires                    0   \n",
       "4  11      Typhoon Soudelor kills 28 in China and Taiwan                    1   \n",
       "\n",
       "   Linear Fit Target, Clean  Basic Logistic Regression, Unclean  \\\n",
       "0                         0                                   1   \n",
       "1                         1                                   1   \n",
       "2                         1                                   1   \n",
       "3                         1                                   0   \n",
       "4                         1                                   1   \n",
       "\n",
       "   Basic Logistic Regression, Clean  Weighted Logistic Regression, Unclean  \n",
       "0                                 1                                      1  \n",
       "1                                 1                                      1  \n",
       "2                                 1                                      1  \n",
       "3                                 0                                      0  \n",
       "4                                 1                                      1  "
      ]
     },
     "execution_count": 68,
     "metadata": {},
     "output_type": "execute_result"
    }
   ],
   "source": [
    "# Weighted Logistic Regression, Unclean\n",
    "clf_log_weighted = linear_model.LogisticRegression(max_iter=500, class_weight='balanced')\n",
    "\n",
    "# Cross Validation\n",
    "scores = model_selection.cross_val_score(clf_log_weighted, train_vectors, train_df[\"target\"], \n",
    "                                         cv=3, scoring=\"f1\")\n",
    "\n",
    "# Fit the model to training data\n",
    "clf_log_weighted.fit(train_vectors, train_df[\"target\"])\n",
    "\n",
    "# Predictions\n",
    "predicted_df[\"Weighted Logistic Regression, Unclean\"] = clf_log_weighted.predict(test_vectors)\n",
    "\n",
    "# Add scores to cv_value dictionary\n",
    "cv_values[\"Weighted Logistic Regression, Unclean\"] = scores\n",
    "\n",
    "print(scores)\n",
    "predicted_df.head()"
   ]
  },
  {
   "cell_type": "code",
   "execution_count": 69,
   "metadata": {
    "id": "2GZCRHpMYkn_",
    "outputId": "e7f38d9e-facc-424e-c4c8-88c5f240ae10",
    "scrolled": true
   },
   "outputs": [
    {
     "data": {
      "image/png": "[encoded data removed]",
      "text/plain": [
       "<Figure size 360x360 with 2 Axes>"
      ]
     },
     "metadata": {
      "needs_background": "light"
     },
     "output_type": "display_data"
    }
   ],
   "source": [
    "# Confusion Matrix - Weighted Logistic Regression, Unclean\n",
    "cmat = pd.DataFrame(confusion_matrix(train_df['target'], \n",
    "                    clf_log_weighted.predict(train_vectors)))\n",
    "plotConfusionMatrix(cmat, \"Weighted Logistic Regression, Unclean\")"
   ]
  },
  {
   "cell_type": "markdown",
   "metadata": {
    "id": "vYMul5XRYkn_"
   },
   "source": [
    "#### Cleaned Data"
   ]
  },
  {
   "cell_type": "code",
   "execution_count": 70,
   "metadata": {
    "id": "aoF_2YKTYkn_",
    "outputId": "70c9a93b-53da-4e5b-d14c-908473ac643e",
    "scrolled": true
   },
   "outputs": [
    {
     "name": "stdout",
     "output_type": "stream",
     "text": [
      "[0.64180672 0.61285645 0.68320611]\n"
     ]
    },
    {
     "data": {
      "text/html": [
       "<div>\n",
       "<style scoped>\n",
       "    .dataframe tbody tr th:only-of-type {\n",
       "        vertical-align: middle;\n",
       "    }\n",
       "\n",
       "    .dataframe tbody tr th {\n",
       "        vertical-align: top;\n",
       "    }\n",
       "\n",
       "    .dataframe thead th {\n",
       "        text-align: right;\n",
       "    }\n",
       "</style>\n",
       "<table border=\"1\" class=\"dataframe\">\n",
       "  <thead>\n",
       "    <tr style=\"text-align: right;\">\n",
       "      <th></th>\n",
       "      <th>id</th>\n",
       "      <th>text</th>\n",
       "      <th>Linear Fit, Unclean</th>\n",
       "      <th>Linear Fit Target, Clean</th>\n",
       "      <th>Basic Logistic Regression, Unclean</th>\n",
       "      <th>Basic Logistic Regression, Clean</th>\n",
       "      <th>Weighted Logistic Regression, Unclean</th>\n",
       "      <th>Weighted Logistic Regression, Clean</th>\n",
       "    </tr>\n",
       "  </thead>\n",
       "  <tbody>\n",
       "    <tr>\n",
       "      <th>0</th>\n",
       "      <td>0</td>\n",
       "      <td>Just happened a terrible car crash</td>\n",
       "      <td>0</td>\n",
       "      <td>0</td>\n",
       "      <td>1</td>\n",
       "      <td>1</td>\n",
       "      <td>1</td>\n",
       "      <td>1</td>\n",
       "    </tr>\n",
       "    <tr>\n",
       "      <th>1</th>\n",
       "      <td>2</td>\n",
       "      <td>Heard about #earthquake is different cities, s...</td>\n",
       "      <td>1</td>\n",
       "      <td>1</td>\n",
       "      <td>1</td>\n",
       "      <td>1</td>\n",
       "      <td>1</td>\n",
       "      <td>1</td>\n",
       "    </tr>\n",
       "    <tr>\n",
       "      <th>2</th>\n",
       "      <td>3</td>\n",
       "      <td>there is a forest fire at spot pond, geese are...</td>\n",
       "      <td>1</td>\n",
       "      <td>1</td>\n",
       "      <td>1</td>\n",
       "      <td>1</td>\n",
       "      <td>1</td>\n",
       "      <td>1</td>\n",
       "    </tr>\n",
       "    <tr>\n",
       "      <th>3</th>\n",
       "      <td>9</td>\n",
       "      <td>Apocalypse lighting. #Spokane #wildfires</td>\n",
       "      <td>0</td>\n",
       "      <td>1</td>\n",
       "      <td>0</td>\n",
       "      <td>0</td>\n",
       "      <td>0</td>\n",
       "      <td>1</td>\n",
       "    </tr>\n",
       "    <tr>\n",
       "      <th>4</th>\n",
       "      <td>11</td>\n",
       "      <td>Typhoon Soudelor kills 28 in China and Taiwan</td>\n",
       "      <td>1</td>\n",
       "      <td>1</td>\n",
       "      <td>1</td>\n",
       "      <td>1</td>\n",
       "      <td>1</td>\n",
       "      <td>1</td>\n",
       "    </tr>\n",
       "  </tbody>\n",
       "</table>\n",
       "</div>"
      ],
      "text/plain": [
       "   id                                               text  Linear Fit, Unclean  \\\n",
       "0   0                 Just happened a terrible car crash                    0   \n",
       "1   2  Heard about #earthquake is different cities, s...                    1   \n",
       "2   3  there is a forest fire at spot pond, geese are...                    1   \n",
       "3   9           Apocalypse lighting. #Spokane #wildfires                    0   \n",
       "4  11      Typhoon Soudelor kills 28 in China and Taiwan                    1   \n",
       "\n",
       "   Linear Fit Target, Clean  Basic Logistic Regression, Unclean  \\\n",
       "0                         0                                   1   \n",
       "1                         1                                   1   \n",
       "2                         1                                   1   \n",
       "3                         1                                   0   \n",
       "4                         1                                   1   \n",
       "\n",
       "   Basic Logistic Regression, Clean  Weighted Logistic Regression, Unclean  \\\n",
       "0                                 1                                      1   \n",
       "1                                 1                                      1   \n",
       "2                                 1                                      1   \n",
       "3                                 0                                      0   \n",
       "4                                 1                                      1   \n",
       "\n",
       "   Weighted Logistic Regression, Clean  \n",
       "0                                    1  \n",
       "1                                    1  \n",
       "2                                    1  \n",
       "3                                    1  \n",
       "4                                    1  "
      ]
     },
     "execution_count": 70,
     "metadata": {},
     "output_type": "execute_result"
    }
   ],
   "source": [
    "# Weighted Logistic Regression, Cleaned Data\n",
    "clf_log_weighted_cleaned = linear_model.LogisticRegression(max_iter=500, class_weight='balanced')\n",
    "\n",
    "# Cross Validation\n",
    "scores = model_selection.cross_val_score(clf_log_weighted_cleaned, train_vectors_cleaned, train_df_cleaned[\"target\"], \n",
    "                                         cv=3, scoring=\"f1\")\n",
    "\n",
    "# Fit the model to training data\n",
    "clf_log_weighted_cleaned.fit(train_vectors_cleaned, train_df_cleaned[\"target\"])\n",
    "\n",
    "# Predictions\n",
    "predicted_df[\"Weighted Logistic Regression, Clean\"] = clf_log_weighted_cleaned.predict(test_vectors_cleaned)\n",
    "\n",
    "# Add scores to cv_value dictionary\n",
    "cv_values[\"Weighted Logistic Regression, Clean\"] = scores\n",
    "\n",
    "print(scores)\n",
    "predicted_df.head()"
   ]
  },
  {
   "cell_type": "code",
   "execution_count": 71,
   "metadata": {
    "id": "5a6MRgC4Ykn_",
    "outputId": "ab1ab8a6-00f7-47b1-fd4d-ac7fdc47ff88",
    "scrolled": true
   },
   "outputs": [
    {
     "data": {
      "image/png": "[encoded data removed]",
      "text/plain": [
       "<Figure size 360x360 with 2 Axes>"
      ]
     },
     "metadata": {
      "needs_background": "light"
     },
     "output_type": "display_data"
    }
   ],
   "source": [
    "# Confusion Matrix - Weighted Logistic Regression, Clean\n",
    "cmat = pd.DataFrame(confusion_matrix(train_df_cleaned['target'], \n",
    "                    clf_log_weighted_cleaned.predict(train_vectors_cleaned)))\n",
    "plotConfusionMatrix(cmat, \"Weighted Logistic Regression, Clean\")"
   ]
  },
  {
   "cell_type": "markdown",
   "metadata": {
    "id": "O4nH1MEMYkn_"
   },
   "source": [
    "### Multinomial Naive Bayes - Learn Class Priors"
   ]
  },
  {
   "cell_type": "markdown",
   "metadata": {
    "id": "M6VlFzo9Ykn_"
   },
   "source": [
    "#### Unclean Data"
   ]
  },
  {
   "cell_type": "code",
   "execution_count": 72,
   "metadata": {
    "id": "8fCOzXpjYkn_",
    "outputId": "f836ec36-3359-45e3-eb49-69de16746379",
    "scrolled": true
   },
   "outputs": [
    {
     "name": "stdout",
     "output_type": "stream",
     "text": [
      "[0.66763006 0.6557971  0.72431507]\n"
     ]
    },
    {
     "data": {
      "text/html": [
       "<div>\n",
       "<style scoped>\n",
       "    .dataframe tbody tr th:only-of-type {\n",
       "        vertical-align: middle;\n",
       "    }\n",
       "\n",
       "    .dataframe tbody tr th {\n",
       "        vertical-align: top;\n",
       "    }\n",
       "\n",
       "    .dataframe thead th {\n",
       "        text-align: right;\n",
       "    }\n",
       "</style>\n",
       "<table border=\"1\" class=\"dataframe\">\n",
       "  <thead>\n",
       "    <tr style=\"text-align: right;\">\n",
       "      <th></th>\n",
       "      <th>id</th>\n",
       "      <th>text</th>\n",
       "      <th>Linear Fit, Unclean</th>\n",
       "      <th>Linear Fit Target, Clean</th>\n",
       "      <th>Basic Logistic Regression, Unclean</th>\n",
       "      <th>Basic Logistic Regression, Clean</th>\n",
       "      <th>Weighted Logistic Regression, Unclean</th>\n",
       "      <th>Weighted Logistic Regression, Clean</th>\n",
       "      <th>Multinomial Naive Bayes Learn Priors, Unclean</th>\n",
       "    </tr>\n",
       "  </thead>\n",
       "  <tbody>\n",
       "    <tr>\n",
       "      <th>0</th>\n",
       "      <td>0</td>\n",
       "      <td>Just happened a terrible car crash</td>\n",
       "      <td>0</td>\n",
       "      <td>0</td>\n",
       "      <td>1</td>\n",
       "      <td>1</td>\n",
       "      <td>1</td>\n",
       "      <td>1</td>\n",
       "      <td>1</td>\n",
       "    </tr>\n",
       "    <tr>\n",
       "      <th>1</th>\n",
       "      <td>2</td>\n",
       "      <td>Heard about #earthquake is different cities, s...</td>\n",
       "      <td>1</td>\n",
       "      <td>1</td>\n",
       "      <td>1</td>\n",
       "      <td>1</td>\n",
       "      <td>1</td>\n",
       "      <td>1</td>\n",
       "      <td>1</td>\n",
       "    </tr>\n",
       "    <tr>\n",
       "      <th>2</th>\n",
       "      <td>3</td>\n",
       "      <td>there is a forest fire at spot pond, geese are...</td>\n",
       "      <td>1</td>\n",
       "      <td>1</td>\n",
       "      <td>1</td>\n",
       "      <td>1</td>\n",
       "      <td>1</td>\n",
       "      <td>1</td>\n",
       "      <td>1</td>\n",
       "    </tr>\n",
       "    <tr>\n",
       "      <th>3</th>\n",
       "      <td>9</td>\n",
       "      <td>Apocalypse lighting. #Spokane #wildfires</td>\n",
       "      <td>0</td>\n",
       "      <td>1</td>\n",
       "      <td>0</td>\n",
       "      <td>0</td>\n",
       "      <td>0</td>\n",
       "      <td>1</td>\n",
       "      <td>1</td>\n",
       "    </tr>\n",
       "    <tr>\n",
       "      <th>4</th>\n",
       "      <td>11</td>\n",
       "      <td>Typhoon Soudelor kills 28 in China and Taiwan</td>\n",
       "      <td>1</td>\n",
       "      <td>1</td>\n",
       "      <td>1</td>\n",
       "      <td>1</td>\n",
       "      <td>1</td>\n",
       "      <td>1</td>\n",
       "      <td>1</td>\n",
       "    </tr>\n",
       "  </tbody>\n",
       "</table>\n",
       "</div>"
      ],
      "text/plain": [
       "   id                                               text  Linear Fit, Unclean  \\\n",
       "0   0                 Just happened a terrible car crash                    0   \n",
       "1   2  Heard about #earthquake is different cities, s...                    1   \n",
       "2   3  there is a forest fire at spot pond, geese are...                    1   \n",
       "3   9           Apocalypse lighting. #Spokane #wildfires                    0   \n",
       "4  11      Typhoon Soudelor kills 28 in China and Taiwan                    1   \n",
       "\n",
       "   Linear Fit Target, Clean  Basic Logistic Regression, Unclean  \\\n",
       "0                         0                                   1   \n",
       "1                         1                                   1   \n",
       "2                         1                                   1   \n",
       "3                         1                                   0   \n",
       "4                         1                                   1   \n",
       "\n",
       "   Basic Logistic Regression, Clean  Weighted Logistic Regression, Unclean  \\\n",
       "0                                 1                                      1   \n",
       "1                                 1                                      1   \n",
       "2                                 1                                      1   \n",
       "3                                 0                                      0   \n",
       "4                                 1                                      1   \n",
       "\n",
       "   Weighted Logistic Regression, Clean  \\\n",
       "0                                    1   \n",
       "1                                    1   \n",
       "2                                    1   \n",
       "3                                    1   \n",
       "4                                    1   \n",
       "\n",
       "   Multinomial Naive Bayes Learn Priors, Unclean  \n",
       "0                                              1  \n",
       "1                                              1  \n",
       "2                                              1  \n",
       "3                                              1  \n",
       "4                                              1  "
      ]
     },
     "execution_count": 72,
     "metadata": {},
     "output_type": "execute_result"
    }
   ],
   "source": [
    "# Multinomial Naive Bayes Classification, Learn Class Prior Probs, Unclean\n",
    "clf_multinb_lcpprob = MultinomialNB().fit(train_vectors, train_df['target'])\n",
    "\n",
    "# Cross Validation\n",
    "scores = model_selection.cross_val_score(clf_multinb_lcpprob, train_vectors, train_df[\"target\"], \n",
    "                                         cv=3, scoring=\"f1\")\n",
    "\n",
    "# Fit the model to training data\n",
    "clf_multinb_lcpprob.fit(train_vectors, train_df[\"target\"])\n",
    "\n",
    "# Predictions\n",
    "predicted_df[\"Multinomial Naive Bayes Learn Priors, Unclean\"] = clf_multinb_lcpprob.predict(test_vectors)\n",
    "\n",
    "# Add scores to cv_value dictionary\n",
    "cv_values[\"Multinomial Naive Bayes Learn Priors, Unclean\"] = scores\n",
    "\n",
    "print(scores)\n",
    "predicted_df.head()"
   ]
  },
  {
   "cell_type": "code",
   "execution_count": 73,
   "metadata": {
    "id": "iTiHtz2-Ykn_",
    "outputId": "d6a50152-2a2f-4aa5-d828-52f5f83d63c4",
    "scrolled": false
   },
   "outputs": [
    {
     "data": {
      "image/png": "[encoded data removed]",
      "text/plain": [
       "<Figure size 360x360 with 2 Axes>"
      ]
     },
     "metadata": {
      "needs_background": "light"
     },
     "output_type": "display_data"
    }
   ],
   "source": [
    "# Confusion Matrix - Multinomial Naive Bayes Learn Priors, Unclean\n",
    "cmat = pd.DataFrame(confusion_matrix(train_df['target'], \n",
    "                    clf_multinb_lcpprob.predict(train_vectors)))\n",
    "plotConfusionMatrix(cmat, \"Multinomial Naive Bayes \\n Learn Priors, Unclean\")"
   ]
  },
  {
   "cell_type": "markdown",
   "metadata": {
    "id": "42dyWJBKYkoA"
   },
   "source": [
    "#### Cleaned Data"
   ]
  },
  {
   "cell_type": "code",
   "execution_count": 74,
   "metadata": {
    "id": "Rh798c82YkoA",
    "outputId": "02d641a2-06e6-4184-b4ec-fac9f123bd82",
    "scrolled": false
   },
   "outputs": [
    {
     "name": "stdout",
     "output_type": "stream",
     "text": [
      "[0.68097561 0.65970962 0.73198101]\n"
     ]
    },
    {
     "data": {
      "text/html": [
       "<div>\n",
       "<style scoped>\n",
       "    .dataframe tbody tr th:only-of-type {\n",
       "        vertical-align: middle;\n",
       "    }\n",
       "\n",
       "    .dataframe tbody tr th {\n",
       "        vertical-align: top;\n",
       "    }\n",
       "\n",
       "    .dataframe thead th {\n",
       "        text-align: right;\n",
       "    }\n",
       "</style>\n",
       "<table border=\"1\" class=\"dataframe\">\n",
       "  <thead>\n",
       "    <tr style=\"text-align: right;\">\n",
       "      <th></th>\n",
       "      <th>id</th>\n",
       "      <th>text</th>\n",
       "      <th>Linear Fit, Unclean</th>\n",
       "      <th>Linear Fit Target, Clean</th>\n",
       "      <th>Basic Logistic Regression, Unclean</th>\n",
       "      <th>Basic Logistic Regression, Clean</th>\n",
       "      <th>Weighted Logistic Regression, Unclean</th>\n",
       "      <th>Weighted Logistic Regression, Clean</th>\n",
       "      <th>Multinomial Naive Bayes Learn Priors, Unclean</th>\n",
       "      <th>Multinomial Naive Bayes Learn Priors, Clean</th>\n",
       "    </tr>\n",
       "  </thead>\n",
       "  <tbody>\n",
       "    <tr>\n",
       "      <th>0</th>\n",
       "      <td>0</td>\n",
       "      <td>Just happened a terrible car crash</td>\n",
       "      <td>0</td>\n",
       "      <td>0</td>\n",
       "      <td>1</td>\n",
       "      <td>1</td>\n",
       "      <td>1</td>\n",
       "      <td>1</td>\n",
       "      <td>1</td>\n",
       "      <td>1</td>\n",
       "    </tr>\n",
       "    <tr>\n",
       "      <th>1</th>\n",
       "      <td>2</td>\n",
       "      <td>Heard about #earthquake is different cities, s...</td>\n",
       "      <td>1</td>\n",
       "      <td>1</td>\n",
       "      <td>1</td>\n",
       "      <td>1</td>\n",
       "      <td>1</td>\n",
       "      <td>1</td>\n",
       "      <td>1</td>\n",
       "      <td>1</td>\n",
       "    </tr>\n",
       "    <tr>\n",
       "      <th>2</th>\n",
       "      <td>3</td>\n",
       "      <td>there is a forest fire at spot pond, geese are...</td>\n",
       "      <td>1</td>\n",
       "      <td>1</td>\n",
       "      <td>1</td>\n",
       "      <td>1</td>\n",
       "      <td>1</td>\n",
       "      <td>1</td>\n",
       "      <td>1</td>\n",
       "      <td>1</td>\n",
       "    </tr>\n",
       "    <tr>\n",
       "      <th>3</th>\n",
       "      <td>9</td>\n",
       "      <td>Apocalypse lighting. #Spokane #wildfires</td>\n",
       "      <td>0</td>\n",
       "      <td>1</td>\n",
       "      <td>0</td>\n",
       "      <td>0</td>\n",
       "      <td>0</td>\n",
       "      <td>1</td>\n",
       "      <td>1</td>\n",
       "      <td>1</td>\n",
       "    </tr>\n",
       "    <tr>\n",
       "      <th>4</th>\n",
       "      <td>11</td>\n",
       "      <td>Typhoon Soudelor kills 28 in China and Taiwan</td>\n",
       "      <td>1</td>\n",
       "      <td>1</td>\n",
       "      <td>1</td>\n",
       "      <td>1</td>\n",
       "      <td>1</td>\n",
       "      <td>1</td>\n",
       "      <td>1</td>\n",
       "      <td>1</td>\n",
       "    </tr>\n",
       "  </tbody>\n",
       "</table>\n",
       "</div>"
      ],
      "text/plain": [
       "   id                                               text  Linear Fit, Unclean  \\\n",
       "0   0                 Just happened a terrible car crash                    0   \n",
       "1   2  Heard about #earthquake is different cities, s...                    1   \n",
       "2   3  there is a forest fire at spot pond, geese are...                    1   \n",
       "3   9           Apocalypse lighting. #Spokane #wildfires                    0   \n",
       "4  11      Typhoon Soudelor kills 28 in China and Taiwan                    1   \n",
       "\n",
       "   Linear Fit Target, Clean  Basic Logistic Regression, Unclean  \\\n",
       "0                         0                                   1   \n",
       "1                         1                                   1   \n",
       "2                         1                                   1   \n",
       "3                         1                                   0   \n",
       "4                         1                                   1   \n",
       "\n",
       "   Basic Logistic Regression, Clean  Weighted Logistic Regression, Unclean  \\\n",
       "0                                 1                                      1   \n",
       "1                                 1                                      1   \n",
       "2                                 1                                      1   \n",
       "3                                 0                                      0   \n",
       "4                                 1                                      1   \n",
       "\n",
       "   Weighted Logistic Regression, Clean  \\\n",
       "0                                    1   \n",
       "1                                    1   \n",
       "2                                    1   \n",
       "3                                    1   \n",
       "4                                    1   \n",
       "\n",
       "   Multinomial Naive Bayes Learn Priors, Unclean  \\\n",
       "0                                              1   \n",
       "1                                              1   \n",
       "2                                              1   \n",
       "3                                              1   \n",
       "4                                              1   \n",
       "\n",
       "   Multinomial Naive Bayes Learn Priors, Clean  \n",
       "0                                            1  \n",
       "1                                            1  \n",
       "2                                            1  \n",
       "3                                            1  \n",
       "4                                            1  "
      ]
     },
     "execution_count": 74,
     "metadata": {},
     "output_type": "execute_result"
    }
   ],
   "source": [
    "# Multinomial Naive Bayes Classification, Learn Class Prior Probs, Cleaned Data\n",
    "clf_multinb_lcpprob_clean = MultinomialNB().fit(train_vectors_cleaned, train_df_cleaned['target'])\n",
    "\n",
    "# Cross Validation\n",
    "scores= model_selection.cross_val_score(clf_multinb_lcpprob_clean, train_vectors_cleaned, train_df_cleaned[\"target\"], \n",
    "                                         cv=3, scoring=\"f1\")\n",
    "\n",
    "# Fit the model to training data\n",
    "clf_multinb_lcpprob_clean.fit(train_vectors_cleaned, train_df_cleaned[\"target\"])\n",
    "\n",
    "# Predictions\n",
    "predicted_df[\"Multinomial Naive Bayes Learn Priors, Clean\"] = clf_multinb_lcpprob_clean.predict(test_vectors_cleaned)\n",
    "\n",
    "# Add scores to cv_value dictionary\n",
    "cv_values[\"Multinomial Naive Bayes Learn Priors, Clean\"] = scores\n",
    "\n",
    "print(scores)\n",
    "predicted_df.head()"
   ]
  },
  {
   "cell_type": "code",
   "execution_count": 75,
   "metadata": {
    "id": "0BTivCwwYkoA",
    "outputId": "435d9718-72f0-4d3e-d03e-c51e0e6c001b",
    "scrolled": false
   },
   "outputs": [
    {
     "data": {
      "image/png": "[encoded data removed]",
      "text/plain": [
       "<Figure size 360x360 with 2 Axes>"
      ]
     },
     "metadata": {
      "needs_background": "light"
     },
     "output_type": "display_data"
    }
   ],
   "source": [
    "# Confusion Matrix - Multinomial Naive Bayes Learn Priors, Clean\n",
    "cmat = pd.DataFrame(confusion_matrix(train_df_cleaned['target'], \n",
    "                    clf_multinb_lcpprob_clean.predict(train_vectors_cleaned)))\n",
    "plotConfusionMatrix(cmat, \"Multinomial Naive Bayes \\n Learn Priors, Clean\")"
   ]
  },
  {
   "cell_type": "markdown",
   "metadata": {
    "id": "7exTPP5cYkoA"
   },
   "source": [
    "### Multinomial Naive Bayes - Uniform Priors"
   ]
  },
  {
   "cell_type": "markdown",
   "metadata": {
    "id": "CftT-SkMYkoA"
   },
   "source": [
    "#### Unclean Data"
   ]
  },
  {
   "cell_type": "code",
   "execution_count": 76,
   "metadata": {
    "id": "cx1bjcWUYkoA",
    "outputId": "207ecb1c-b578-46dc-ed2b-fd35031af4bb",
    "scrolled": false
   },
   "outputs": [
    {
     "name": "stdout",
     "output_type": "stream",
     "text": [
      "[0.66697545 0.65608466 0.71756362]\n"
     ]
    },
    {
     "data": {
      "text/html": [
       "<div>\n",
       "<style scoped>\n",
       "    .dataframe tbody tr th:only-of-type {\n",
       "        vertical-align: middle;\n",
       "    }\n",
       "\n",
       "    .dataframe tbody tr th {\n",
       "        vertical-align: top;\n",
       "    }\n",
       "\n",
       "    .dataframe thead th {\n",
       "        text-align: right;\n",
       "    }\n",
       "</style>\n",
       "<table border=\"1\" class=\"dataframe\">\n",
       "  <thead>\n",
       "    <tr style=\"text-align: right;\">\n",
       "      <th></th>\n",
       "      <th>id</th>\n",
       "      <th>text</th>\n",
       "      <th>Linear Fit, Unclean</th>\n",
       "      <th>Linear Fit Target, Clean</th>\n",
       "      <th>Basic Logistic Regression, Unclean</th>\n",
       "      <th>Basic Logistic Regression, Clean</th>\n",
       "      <th>Weighted Logistic Regression, Unclean</th>\n",
       "      <th>Weighted Logistic Regression, Clean</th>\n",
       "      <th>Multinomial Naive Bayes Learn Priors, Unclean</th>\n",
       "      <th>Multinomial Naive Bayes Learn Priors, Clean</th>\n",
       "      <th>Multinomial Naive Bayes Uniform Priors, Unclean</th>\n",
       "    </tr>\n",
       "  </thead>\n",
       "  <tbody>\n",
       "    <tr>\n",
       "      <th>0</th>\n",
       "      <td>0</td>\n",
       "      <td>Just happened a terrible car crash</td>\n",
       "      <td>0</td>\n",
       "      <td>0</td>\n",
       "      <td>1</td>\n",
       "      <td>1</td>\n",
       "      <td>1</td>\n",
       "      <td>1</td>\n",
       "      <td>1</td>\n",
       "      <td>1</td>\n",
       "      <td>1</td>\n",
       "    </tr>\n",
       "    <tr>\n",
       "      <th>1</th>\n",
       "      <td>2</td>\n",
       "      <td>Heard about #earthquake is different cities, s...</td>\n",
       "      <td>1</td>\n",
       "      <td>1</td>\n",
       "      <td>1</td>\n",
       "      <td>1</td>\n",
       "      <td>1</td>\n",
       "      <td>1</td>\n",
       "      <td>1</td>\n",
       "      <td>1</td>\n",
       "      <td>1</td>\n",
       "    </tr>\n",
       "    <tr>\n",
       "      <th>2</th>\n",
       "      <td>3</td>\n",
       "      <td>there is a forest fire at spot pond, geese are...</td>\n",
       "      <td>1</td>\n",
       "      <td>1</td>\n",
       "      <td>1</td>\n",
       "      <td>1</td>\n",
       "      <td>1</td>\n",
       "      <td>1</td>\n",
       "      <td>1</td>\n",
       "      <td>1</td>\n",
       "      <td>1</td>\n",
       "    </tr>\n",
       "    <tr>\n",
       "      <th>3</th>\n",
       "      <td>9</td>\n",
       "      <td>Apocalypse lighting. #Spokane #wildfires</td>\n",
       "      <td>0</td>\n",
       "      <td>1</td>\n",
       "      <td>0</td>\n",
       "      <td>0</td>\n",
       "      <td>0</td>\n",
       "      <td>1</td>\n",
       "      <td>1</td>\n",
       "      <td>1</td>\n",
       "      <td>1</td>\n",
       "    </tr>\n",
       "    <tr>\n",
       "      <th>4</th>\n",
       "      <td>11</td>\n",
       "      <td>Typhoon Soudelor kills 28 in China and Taiwan</td>\n",
       "      <td>1</td>\n",
       "      <td>1</td>\n",
       "      <td>1</td>\n",
       "      <td>1</td>\n",
       "      <td>1</td>\n",
       "      <td>1</td>\n",
       "      <td>1</td>\n",
       "      <td>1</td>\n",
       "      <td>1</td>\n",
       "    </tr>\n",
       "  </tbody>\n",
       "</table>\n",
       "</div>"
      ],
      "text/plain": [
       "   id                                               text  Linear Fit, Unclean  \\\n",
       "0   0                 Just happened a terrible car crash                    0   \n",
       "1   2  Heard about #earthquake is different cities, s...                    1   \n",
       "2   3  there is a forest fire at spot pond, geese are...                    1   \n",
       "3   9           Apocalypse lighting. #Spokane #wildfires                    0   \n",
       "4  11      Typhoon Soudelor kills 28 in China and Taiwan                    1   \n",
       "\n",
       "   Linear Fit Target, Clean  Basic Logistic Regression, Unclean  \\\n",
       "0                         0                                   1   \n",
       "1                         1                                   1   \n",
       "2                         1                                   1   \n",
       "3                         1                                   0   \n",
       "4                         1                                   1   \n",
       "\n",
       "   Basic Logistic Regression, Clean  Weighted Logistic Regression, Unclean  \\\n",
       "0                                 1                                      1   \n",
       "1                                 1                                      1   \n",
       "2                                 1                                      1   \n",
       "3                                 0                                      0   \n",
       "4                                 1                                      1   \n",
       "\n",
       "   Weighted Logistic Regression, Clean  \\\n",
       "0                                    1   \n",
       "1                                    1   \n",
       "2                                    1   \n",
       "3                                    1   \n",
       "4                                    1   \n",
       "\n",
       "   Multinomial Naive Bayes Learn Priors, Unclean  \\\n",
       "0                                              1   \n",
       "1                                              1   \n",
       "2                                              1   \n",
       "3                                              1   \n",
       "4                                              1   \n",
       "\n",
       "   Multinomial Naive Bayes Learn Priors, Clean  \\\n",
       "0                                            1   \n",
       "1                                            1   \n",
       "2                                            1   \n",
       "3                                            1   \n",
       "4                                            1   \n",
       "\n",
       "   Multinomial Naive Bayes Uniform Priors, Unclean  \n",
       "0                                                1  \n",
       "1                                                1  \n",
       "2                                                1  \n",
       "3                                                1  \n",
       "4                                                1  "
      ]
     },
     "execution_count": 76,
     "metadata": {},
     "output_type": "execute_result"
    }
   ],
   "source": [
    "# Multinomial Naive Bayes Classification, Uniform Priors, Unclean\n",
    "clf_multinb_unifpri = MultinomialNB(fit_prior=False).fit(train_vectors, train_df['target'])\n",
    "\n",
    "# Cross Validation\n",
    "scores = model_selection.cross_val_score(clf_multinb_unifpri, train_vectors, train_df[\"target\"], \n",
    "                                         cv=3, scoring=\"f1\")\n",
    "\n",
    "# Fit the model to training data\n",
    "clf_multinb_unifpri.fit(train_vectors, train_df[\"target\"])\n",
    "\n",
    "# Predictions\n",
    "predicted_df[\"Multinomial Naive Bayes Uniform Priors, Unclean\"] = clf_multinb_unifpri.predict(test_vectors)\n",
    "\n",
    "# Add scores to cv_value dictionary\n",
    "cv_values[\"Multinomial Naive Bayes Uniform Priors, Unclean\"] = scores\n",
    "\n",
    "print(scores)\n",
    "predicted_df.head()"
   ]
  },
  {
   "cell_type": "code",
   "execution_count": 77,
   "metadata": {
    "id": "jJeUlEzlYkoA",
    "outputId": "9e533bff-f99c-4594-f5e7-0fc8a514c0ea",
    "scrolled": false
   },
   "outputs": [
    {
     "data": {
      "image/png": "[encoded data removed]",
      "text/plain": [
       "<Figure size 360x360 with 2 Axes>"
      ]
     },
     "metadata": {
      "needs_background": "light"
     },
     "output_type": "display_data"
    }
   ],
   "source": [
    "# Confusion Matrix - Multinomial Naive Bayes Uniform Priors, Unclean\n",
    "cmat = pd.DataFrame(confusion_matrix(train_df['target'], \n",
    "                    clf_multinb_unifpri.predict(train_vectors)))\n",
    "plotConfusionMatrix(cmat, \"Multinomial Naive Bayes \\n Uniform Priors, Unclean\")"
   ]
  },
  {
   "cell_type": "markdown",
   "metadata": {
    "id": "4aC5AZgeYkoA"
   },
   "source": [
    "#### Cleaned Data"
   ]
  },
  {
   "cell_type": "code",
   "execution_count": 78,
   "metadata": {
    "id": "oGO9hL6tYkoA",
    "outputId": "2cfce301-22d8-4ae4-e40e-1ac87f96617f",
    "scrolled": false
   },
   "outputs": [
    {
     "name": "stdout",
     "output_type": "stream",
     "text": [
      "[0.6775854  0.66283694 0.71973466]\n"
     ]
    },
    {
     "data": {
      "text/html": [
       "<div>\n",
       "<style scoped>\n",
       "    .dataframe tbody tr th:only-of-type {\n",
       "        vertical-align: middle;\n",
       "    }\n",
       "\n",
       "    .dataframe tbody tr th {\n",
       "        vertical-align: top;\n",
       "    }\n",
       "\n",
       "    .dataframe thead th {\n",
       "        text-align: right;\n",
       "    }\n",
       "</style>\n",
       "<table border=\"1\" class=\"dataframe\">\n",
       "  <thead>\n",
       "    <tr style=\"text-align: right;\">\n",
       "      <th></th>\n",
       "      <th>id</th>\n",
       "      <th>text</th>\n",
       "      <th>Linear Fit, Unclean</th>\n",
       "      <th>Linear Fit Target, Clean</th>\n",
       "      <th>Basic Logistic Regression, Unclean</th>\n",
       "      <th>Basic Logistic Regression, Clean</th>\n",
       "      <th>Weighted Logistic Regression, Unclean</th>\n",
       "      <th>Weighted Logistic Regression, Clean</th>\n",
       "      <th>Multinomial Naive Bayes Learn Priors, Unclean</th>\n",
       "      <th>Multinomial Naive Bayes Learn Priors, Clean</th>\n",
       "      <th>Multinomial Naive Bayes Uniform Priors, Unclean</th>\n",
       "      <th>Multinomial Naive Bayes Uniform Priors, Clean</th>\n",
       "    </tr>\n",
       "  </thead>\n",
       "  <tbody>\n",
       "    <tr>\n",
       "      <th>0</th>\n",
       "      <td>0</td>\n",
       "      <td>Just happened a terrible car crash</td>\n",
       "      <td>0</td>\n",
       "      <td>0</td>\n",
       "      <td>1</td>\n",
       "      <td>1</td>\n",
       "      <td>1</td>\n",
       "      <td>1</td>\n",
       "      <td>1</td>\n",
       "      <td>1</td>\n",
       "      <td>1</td>\n",
       "      <td>1</td>\n",
       "    </tr>\n",
       "    <tr>\n",
       "      <th>1</th>\n",
       "      <td>2</td>\n",
       "      <td>Heard about #earthquake is different cities, s...</td>\n",
       "      <td>1</td>\n",
       "      <td>1</td>\n",
       "      <td>1</td>\n",
       "      <td>1</td>\n",
       "      <td>1</td>\n",
       "      <td>1</td>\n",
       "      <td>1</td>\n",
       "      <td>1</td>\n",
       "      <td>1</td>\n",
       "      <td>1</td>\n",
       "    </tr>\n",
       "    <tr>\n",
       "      <th>2</th>\n",
       "      <td>3</td>\n",
       "      <td>there is a forest fire at spot pond, geese are...</td>\n",
       "      <td>1</td>\n",
       "      <td>1</td>\n",
       "      <td>1</td>\n",
       "      <td>1</td>\n",
       "      <td>1</td>\n",
       "      <td>1</td>\n",
       "      <td>1</td>\n",
       "      <td>1</td>\n",
       "      <td>1</td>\n",
       "      <td>1</td>\n",
       "    </tr>\n",
       "    <tr>\n",
       "      <th>3</th>\n",
       "      <td>9</td>\n",
       "      <td>Apocalypse lighting. #Spokane #wildfires</td>\n",
       "      <td>0</td>\n",
       "      <td>1</td>\n",
       "      <td>0</td>\n",
       "      <td>0</td>\n",
       "      <td>0</td>\n",
       "      <td>1</td>\n",
       "      <td>1</td>\n",
       "      <td>1</td>\n",
       "      <td>1</td>\n",
       "      <td>1</td>\n",
       "    </tr>\n",
       "    <tr>\n",
       "      <th>4</th>\n",
       "      <td>11</td>\n",
       "      <td>Typhoon Soudelor kills 28 in China and Taiwan</td>\n",
       "      <td>1</td>\n",
       "      <td>1</td>\n",
       "      <td>1</td>\n",
       "      <td>1</td>\n",
       "      <td>1</td>\n",
       "      <td>1</td>\n",
       "      <td>1</td>\n",
       "      <td>1</td>\n",
       "      <td>1</td>\n",
       "      <td>1</td>\n",
       "    </tr>\n",
       "  </tbody>\n",
       "</table>\n",
       "</div>"
      ],
      "text/plain": [
       "   id                                               text  Linear Fit, Unclean  \\\n",
       "0   0                 Just happened a terrible car crash                    0   \n",
       "1   2  Heard about #earthquake is different cities, s...                    1   \n",
       "2   3  there is a forest fire at spot pond, geese are...                    1   \n",
       "3   9           Apocalypse lighting. #Spokane #wildfires                    0   \n",
       "4  11      Typhoon Soudelor kills 28 in China and Taiwan                    1   \n",
       "\n",
       "   Linear Fit Target, Clean  Basic Logistic Regression, Unclean  \\\n",
       "0                         0                                   1   \n",
       "1                         1                                   1   \n",
       "2                         1                                   1   \n",
       "3                         1                                   0   \n",
       "4                         1                                   1   \n",
       "\n",
       "   Basic Logistic Regression, Clean  Weighted Logistic Regression, Unclean  \\\n",
       "0                                 1                                      1   \n",
       "1                                 1                                      1   \n",
       "2                                 1                                      1   \n",
       "3                                 0                                      0   \n",
       "4                                 1                                      1   \n",
       "\n",
       "   Weighted Logistic Regression, Clean  \\\n",
       "0                                    1   \n",
       "1                                    1   \n",
       "2                                    1   \n",
       "3                                    1   \n",
       "4                                    1   \n",
       "\n",
       "   Multinomial Naive Bayes Learn Priors, Unclean  \\\n",
       "0                                              1   \n",
       "1                                              1   \n",
       "2                                              1   \n",
       "3                                              1   \n",
       "4                                              1   \n",
       "\n",
       "   Multinomial Naive Bayes Learn Priors, Clean  \\\n",
       "0                                            1   \n",
       "1                                            1   \n",
       "2                                            1   \n",
       "3                                            1   \n",
       "4                                            1   \n",
       "\n",
       "   Multinomial Naive Bayes Uniform Priors, Unclean  \\\n",
       "0                                                1   \n",
       "1                                                1   \n",
       "2                                                1   \n",
       "3                                                1   \n",
       "4                                                1   \n",
       "\n",
       "   Multinomial Naive Bayes Uniform Priors, Clean  \n",
       "0                                              1  \n",
       "1                                              1  \n",
       "2                                              1  \n",
       "3                                              1  \n",
       "4                                              1  "
      ]
     },
     "execution_count": 78,
     "metadata": {},
     "output_type": "execute_result"
    }
   ],
   "source": [
    "# Multinomial Naive Bayes Classification, Uniform Priors, Cleaned Data\n",
    "clf_multinb_unifpri_clean = MultinomialNB(fit_prior=False).fit(train_vectors_cleaned, train_df_cleaned['target'])\n",
    "\n",
    "# Cross Validation\n",
    "scores= model_selection.cross_val_score(clf_multinb_unifpri_clean, train_vectors_cleaned, train_df_cleaned[\"target\"], \n",
    "                                         cv=3, scoring=\"f1\")\n",
    "\n",
    "# Fit the model to training data\n",
    "clf_multinb_unifpri_clean.fit(train_vectors_cleaned, train_df_cleaned[\"target\"])\n",
    "\n",
    "# Predictions\n",
    "predicted_df[\"Multinomial Naive Bayes Uniform Priors, Clean\"]= clf_multinb_unifpri_clean.predict(test_vectors_cleaned)\n",
    "\n",
    "# Add scores to cv_value dictionary\n",
    "cv_values[\"Multinomial Naive Bayes Uniform Priors, Clean\"] = scores\n",
    "\n",
    "print(scores)\n",
    "predicted_df.head()"
   ]
  },
  {
   "cell_type": "code",
   "execution_count": 79,
   "metadata": {
    "id": "moohmh8LYkoA",
    "outputId": "f46f2c60-3170-415b-fd7e-ae6855e193fa",
    "scrolled": false
   },
   "outputs": [
    {
     "data": {
      "image/png": "[encoded data removed]",
      "text/plain": [
       "<Figure size 360x360 with 2 Axes>"
      ]
     },
     "metadata": {
      "needs_background": "light"
     },
     "output_type": "display_data"
    }
   ],
   "source": [
    "# Confusion Matrix - Multinomial Naive Bayes Uniform Priors, Clean\n",
    "cmat = pd.DataFrame(confusion_matrix(train_df_cleaned['target'], \n",
    "                    clf_multinb_unifpri_clean.predict(train_vectors_cleaned)))\n",
    "plotConfusionMatrix(cmat, \"Multinomial Naive Bayes \\n Uniform Priors, Clean\")"
   ]
  },
  {
   "cell_type": "markdown",
   "metadata": {
    "id": "SOF8tx90YkoA"
   },
   "source": [
    "## Results"
   ]
  },
  {
   "cell_type": "markdown",
   "metadata": {
    "id": "ZoOvSVYzYkoA"
   },
   "source": [
    "### Predictions"
   ]
  },
  {
   "cell_type": "code",
   "execution_count": 80,
   "metadata": {
    "id": "fIdNUvTDYkoA",
    "outputId": "27ecff38-f6d3-4cdc-d9c0-df6d7c1844cc",
    "scrolled": false
   },
   "outputs": [
    {
     "data": {
      "text/html": [
       "<div>\n",
       "<style scoped>\n",
       "    .dataframe tbody tr th:only-of-type {\n",
       "        vertical-align: middle;\n",
       "    }\n",
       "\n",
       "    .dataframe tbody tr th {\n",
       "        vertical-align: top;\n",
       "    }\n",
       "\n",
       "    .dataframe thead th {\n",
       "        text-align: right;\n",
       "    }\n",
       "</style>\n",
       "<table border=\"1\" class=\"dataframe\">\n",
       "  <thead>\n",
       "    <tr style=\"text-align: right;\">\n",
       "      <th></th>\n",
       "      <th>id</th>\n",
       "      <th>text</th>\n",
       "      <th>Linear Fit, Unclean</th>\n",
       "      <th>Linear Fit Target, Clean</th>\n",
       "      <th>Basic Logistic Regression, Unclean</th>\n",
       "      <th>Basic Logistic Regression, Clean</th>\n",
       "      <th>Weighted Logistic Regression, Unclean</th>\n",
       "      <th>Weighted Logistic Regression, Clean</th>\n",
       "      <th>Multinomial Naive Bayes Learn Priors, Unclean</th>\n",
       "      <th>Multinomial Naive Bayes Learn Priors, Clean</th>\n",
       "      <th>Multinomial Naive Bayes Uniform Priors, Unclean</th>\n",
       "      <th>Multinomial Naive Bayes Uniform Priors, Clean</th>\n",
       "    </tr>\n",
       "  </thead>\n",
       "  <tbody>\n",
       "    <tr>\n",
       "      <th>0</th>\n",
       "      <td>0</td>\n",
       "      <td>Just happened a terrible car crash</td>\n",
       "      <td>0</td>\n",
       "      <td>0</td>\n",
       "      <td>1</td>\n",
       "      <td>1</td>\n",
       "      <td>1</td>\n",
       "      <td>1</td>\n",
       "      <td>1</td>\n",
       "      <td>1</td>\n",
       "      <td>1</td>\n",
       "      <td>1</td>\n",
       "    </tr>\n",
       "    <tr>\n",
       "      <th>1</th>\n",
       "      <td>2</td>\n",
       "      <td>Heard about #earthquake is different cities, s...</td>\n",
       "      <td>1</td>\n",
       "      <td>1</td>\n",
       "      <td>1</td>\n",
       "      <td>1</td>\n",
       "      <td>1</td>\n",
       "      <td>1</td>\n",
       "      <td>1</td>\n",
       "      <td>1</td>\n",
       "      <td>1</td>\n",
       "      <td>1</td>\n",
       "    </tr>\n",
       "    <tr>\n",
       "      <th>2</th>\n",
       "      <td>3</td>\n",
       "      <td>there is a forest fire at spot pond, geese are...</td>\n",
       "      <td>1</td>\n",
       "      <td>1</td>\n",
       "      <td>1</td>\n",
       "      <td>1</td>\n",
       "      <td>1</td>\n",
       "      <td>1</td>\n",
       "      <td>1</td>\n",
       "      <td>1</td>\n",
       "      <td>1</td>\n",
       "      <td>1</td>\n",
       "    </tr>\n",
       "    <tr>\n",
       "      <th>3</th>\n",
       "      <td>9</td>\n",
       "      <td>Apocalypse lighting. #Spokane #wildfires</td>\n",
       "      <td>0</td>\n",
       "      <td>1</td>\n",
       "      <td>0</td>\n",
       "      <td>0</td>\n",
       "      <td>0</td>\n",
       "      <td>1</td>\n",
       "      <td>1</td>\n",
       "      <td>1</td>\n",
       "      <td>1</td>\n",
       "      <td>1</td>\n",
       "    </tr>\n",
       "    <tr>\n",
       "      <th>4</th>\n",
       "      <td>11</td>\n",
       "      <td>Typhoon Soudelor kills 28 in China and Taiwan</td>\n",
       "      <td>1</td>\n",
       "      <td>1</td>\n",
       "      <td>1</td>\n",
       "      <td>1</td>\n",
       "      <td>1</td>\n",
       "      <td>1</td>\n",
       "      <td>1</td>\n",
       "      <td>1</td>\n",
       "      <td>1</td>\n",
       "      <td>1</td>\n",
       "    </tr>\n",
       "  </tbody>\n",
       "</table>\n",
       "</div>"
      ],
      "text/plain": [
       "   id                                               text  Linear Fit, Unclean  \\\n",
       "0   0                 Just happened a terrible car crash                    0   \n",
       "1   2  Heard about #earthquake is different cities, s...                    1   \n",
       "2   3  there is a forest fire at spot pond, geese are...                    1   \n",
       "3   9           Apocalypse lighting. #Spokane #wildfires                    0   \n",
       "4  11      Typhoon Soudelor kills 28 in China and Taiwan                    1   \n",
       "\n",
       "   Linear Fit Target, Clean  Basic Logistic Regression, Unclean  \\\n",
       "0                         0                                   1   \n",
       "1                         1                                   1   \n",
       "2                         1                                   1   \n",
       "3                         1                                   0   \n",
       "4                         1                                   1   \n",
       "\n",
       "   Basic Logistic Regression, Clean  Weighted Logistic Regression, Unclean  \\\n",
       "0                                 1                                      1   \n",
       "1                                 1                                      1   \n",
       "2                                 1                                      1   \n",
       "3                                 0                                      0   \n",
       "4                                 1                                      1   \n",
       "\n",
       "   Weighted Logistic Regression, Clean  \\\n",
       "0                                    1   \n",
       "1                                    1   \n",
       "2                                    1   \n",
       "3                                    1   \n",
       "4                                    1   \n",
       "\n",
       "   Multinomial Naive Bayes Learn Priors, Unclean  \\\n",
       "0                                              1   \n",
       "1                                              1   \n",
       "2                                              1   \n",
       "3                                              1   \n",
       "4                                              1   \n",
       "\n",
       "   Multinomial Naive Bayes Learn Priors, Clean  \\\n",
       "0                                            1   \n",
       "1                                            1   \n",
       "2                                            1   \n",
       "3                                            1   \n",
       "4                                            1   \n",
       "\n",
       "   Multinomial Naive Bayes Uniform Priors, Unclean  \\\n",
       "0                                                1   \n",
       "1                                                1   \n",
       "2                                                1   \n",
       "3                                                1   \n",
       "4                                                1   \n",
       "\n",
       "   Multinomial Naive Bayes Uniform Priors, Clean  \n",
       "0                                              1  \n",
       "1                                              1  \n",
       "2                                              1  \n",
       "3                                              1  \n",
       "4                                              1  "
      ]
     },
     "execution_count": 80,
     "metadata": {},
     "output_type": "execute_result"
    }
   ],
   "source": [
    "# First few predictions from each model\n",
    "predicted_df.head()"
   ]
  },
  {
   "cell_type": "markdown",
   "metadata": {
    "id": "xAnwfmETYkoA"
   },
   "source": [
    "### Cross Validation Values"
   ]
  },
  {
   "cell_type": "code",
   "execution_count": 81,
   "metadata": {
    "id": "PgTHqMBJYkoA",
    "outputId": "13d8a9a0-1f95-4c7b-839e-aed3479a0353",
    "scrolled": true
   },
   "outputs": [
    {
     "data": {
      "text/html": [
       "<div>\n",
       "<style scoped>\n",
       "    .dataframe tbody tr th:only-of-type {\n",
       "        vertical-align: middle;\n",
       "    }\n",
       "\n",
       "    .dataframe tbody tr th {\n",
       "        vertical-align: top;\n",
       "    }\n",
       "\n",
       "    .dataframe thead th {\n",
       "        text-align: right;\n",
       "    }\n",
       "</style>\n",
       "<table border=\"1\" class=\"dataframe\">\n",
       "  <thead>\n",
       "    <tr style=\"text-align: right;\">\n",
       "      <th></th>\n",
       "      <th>Fold</th>\n",
       "      <th>Linear Fit, Unclean</th>\n",
       "      <th>Linear Fit, Clean</th>\n",
       "      <th>Basic Logistic Regression, Unclean</th>\n",
       "      <th>Basic Logistic Regression, Clean</th>\n",
       "      <th>Weighted Logistic Regression, Unclean</th>\n",
       "      <th>Weighted Logistic Regression, Clean</th>\n",
       "      <th>Multinomial Naive Bayes Learn Priors, Unclean</th>\n",
       "      <th>Multinomial Naive Bayes Learn Priors, Clean</th>\n",
       "      <th>Multinomial Naive Bayes Uniform Priors, Unclean</th>\n",
       "      <th>Multinomial Naive Bayes Uniform Priors, Clean</th>\n",
       "    </tr>\n",
       "  </thead>\n",
       "  <tbody>\n",
       "    <tr>\n",
       "      <th>0</th>\n",
       "      <td>1</td>\n",
       "      <td>0.594855</td>\n",
       "      <td>0.590885</td>\n",
       "      <td>0.638755</td>\n",
       "      <td>0.635463</td>\n",
       "      <td>0.656008</td>\n",
       "      <td>0.641807</td>\n",
       "      <td>0.667630</td>\n",
       "      <td>0.680976</td>\n",
       "      <td>0.666975</td>\n",
       "      <td>0.677585</td>\n",
       "    </tr>\n",
       "    <tr>\n",
       "      <th>1</th>\n",
       "      <td>2</td>\n",
       "      <td>0.564983</td>\n",
       "      <td>0.549581</td>\n",
       "      <td>0.613479</td>\n",
       "      <td>0.601527</td>\n",
       "      <td>0.625239</td>\n",
       "      <td>0.612856</td>\n",
       "      <td>0.655797</td>\n",
       "      <td>0.659710</td>\n",
       "      <td>0.656085</td>\n",
       "      <td>0.662837</td>\n",
       "    </tr>\n",
       "    <tr>\n",
       "      <th>2</th>\n",
       "      <td>3</td>\n",
       "      <td>0.641491</td>\n",
       "      <td>0.623389</td>\n",
       "      <td>0.682854</td>\n",
       "      <td>0.679112</td>\n",
       "      <td>0.695529</td>\n",
       "      <td>0.683206</td>\n",
       "      <td>0.724315</td>\n",
       "      <td>0.731981</td>\n",
       "      <td>0.717564</td>\n",
       "      <td>0.719735</td>\n",
       "    </tr>\n",
       "  </tbody>\n",
       "</table>\n",
       "</div>"
      ],
      "text/plain": [
       "   Fold  Linear Fit, Unclean  Linear Fit, Clean  \\\n",
       "0     1             0.594855           0.590885   \n",
       "1     2             0.564983           0.549581   \n",
       "2     3             0.641491           0.623389   \n",
       "\n",
       "   Basic Logistic Regression, Unclean  Basic Logistic Regression, Clean  \\\n",
       "0                            0.638755                          0.635463   \n",
       "1                            0.613479                          0.601527   \n",
       "2                            0.682854                          0.679112   \n",
       "\n",
       "   Weighted Logistic Regression, Unclean  Weighted Logistic Regression, Clean  \\\n",
       "0                               0.656008                             0.641807   \n",
       "1                               0.625239                             0.612856   \n",
       "2                               0.695529                             0.683206   \n",
       "\n",
       "   Multinomial Naive Bayes Learn Priors, Unclean  \\\n",
       "0                                       0.667630   \n",
       "1                                       0.655797   \n",
       "2                                       0.724315   \n",
       "\n",
       "   Multinomial Naive Bayes Learn Priors, Clean  \\\n",
       "0                                     0.680976   \n",
       "1                                     0.659710   \n",
       "2                                     0.731981   \n",
       "\n",
       "   Multinomial Naive Bayes Uniform Priors, Unclean  \\\n",
       "0                                         0.666975   \n",
       "1                                         0.656085   \n",
       "2                                         0.717564   \n",
       "\n",
       "   Multinomial Naive Bayes Uniform Priors, Clean  \n",
       "0                                       0.677585  \n",
       "1                                       0.662837  \n",
       "2                                       0.719735  "
      ]
     },
     "execution_count": 81,
     "metadata": {},
     "output_type": "execute_result"
    }
   ],
   "source": [
    "# All the cross validation values per 3 folds for each model\n",
    "cv_values"
   ]
  },
  {
   "cell_type": "code",
   "execution_count": null,
   "metadata": {
    "id": "-txQo0NmYkoA",
    "scrolled": true
   },
   "outputs": [],
   "source": []
  }
 ],
 "metadata": {
  "colab": {
   "collapsed_sections": [
    "M6VlFzo9Ykn_",
    "42dyWJBKYkoA",
    "CftT-SkMYkoA",
    "4aC5AZgeYkoA"
   ],
   "name": "comp562-final-project.ipynb",
   "provenance": [],
   "toc_visible": true
  },
  "kernelspec": {
   "display_name": "Python 3",
   "language": "python",
   "name": "python3"
  },
  "language_info": {
   "codemirror_mode": {
    "name": "ipython",
    "version": 3
   },
   "file_extension": ".py",
   "mimetype": "text/x-python",
   "name": "python",
   "nbconvert_exporter": "python",
   "pygments_lexer": "ipython3",
   "version": "3.8.3"
  }
 },
 "nbformat": 4,
 "nbformat_minor": 1
}
